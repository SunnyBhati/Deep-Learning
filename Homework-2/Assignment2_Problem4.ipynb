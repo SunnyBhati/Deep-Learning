{
 "cells": [
  {
   "cell_type": "code",
   "execution_count": 1,
   "metadata": {
    "id": "InYJXGLtetgX"
   },
   "outputs": [],
   "source": [
    "import torch\n",
    "import torchvision\n",
    "from matplotlib import pyplot\n",
    "from keras.datasets import cifar10\n",
    "import numpy as np\n",
    "import librosa\n",
    "from librosa import display\n",
    "from PIL import Image\n",
    "from matplotlib import pyplot\n",
    "from numpy import asarray\n",
    "import matplotlib.pyplot as plt\n",
    "import numpy as np\n",
    "import cmath\n",
    "import seaborn as sns\n",
    "import scipy\n",
    "import IPython.display as ipd\n",
    "import math\n",
    "from numpy.linalg import inv\n",
    "import torch \n",
    "import torchvision\n",
    "from torchvision import datasets\n",
    "import numpy as np\n",
    "import time\n",
    "import numpy\n",
    "import matplotlib.pyplot as plt\n",
    "import torch.nn as nn\n",
    "import torch\n",
    "import torchvision\n",
    "import torchvision.transforms as transforms\n",
    "import random\n",
    "device = torch.device(\"cuda\") "
   ]
  },
  {
   "cell_type": "markdown",
   "metadata": {
    "id": "E612ylUaIe33"
   },
   "source": [
    "## Preparing Dataset"
   ]
  },
  {
   "cell_type": "code",
   "execution_count": 2,
   "metadata": {
    "id": "XgoVRZj6e6I_"
   },
   "outputs": [],
   "source": [
    "device = torch.device(\"cuda\") \n",
    "(trainX, trainy), (testX, testy) = cifar10.load_data()\n",
    "\n",
    "trainX_pretext=trainX[0:49500]\n",
    "trainy_pretext=trainy[0:49500]\n",
    "\n",
    "trainX_baseline=trainX[49500:50000]\n",
    "trainy_baseline=trainy[49500:50000]\n",
    "\n",
    "\n",
    "testX_valid=testX[0:10000]\n",
    "testy_valid=testy[0:10000]"
   ]
  },
  {
   "cell_type": "markdown",
   "metadata": {
    "id": "FnIVER52IpCF"
   },
   "source": [
    "## Function for Standardizing Dataset"
   ]
  },
  {
   "cell_type": "code",
   "execution_count": 3,
   "metadata": {
    "id": "vNVzDRBme8iO"
   },
   "outputs": [],
   "source": [
    "def function_std(input):\n",
    "  new_input= (input-0.5)/0.5\n",
    "  return new_input"
   ]
  },
  {
   "cell_type": "markdown",
   "metadata": {
    "id": "3_AiAHKgIu-W"
   },
   "source": [
    "## Function for changing the data into desired input (Channels x Height X Width)"
   ]
  },
  {
   "cell_type": "code",
   "execution_count": 4,
   "metadata": {
    "id": "j74_YkGUgTl2"
   },
   "outputs": [],
   "source": [
    "def change_into_channels(input):\n",
    "  num1=[]\n",
    "  for k in range(len(input)):\n",
    "    num2=[]\n",
    "    for j in range(3):\n",
    "      num2.append(input[k][:,:,j])\n",
    "    num1.append(num2)\n",
    "  return num1"
   ]
  },
  {
   "cell_type": "code",
   "execution_count": 5,
   "metadata": {
    "colab": {
     "base_uri": "https://localhost:8080/",
     "height": 283
    },
    "id": "-kxpnQa5gqPO",
    "outputId": "d91f1f69-b9b7-4cf9-9eb4-9e921ebff363"
   },
   "outputs": [
    {
     "data": {
      "text/plain": [
       "<matplotlib.image.AxesImage at 0x7f7bb7143c88>"
      ]
     },
     "execution_count": 5,
     "metadata": {
      "tags": []
     },
     "output_type": "execute_result"
    },
    {
     "data": {
      "image/png": "[encoded data removed]",
      "text/plain": [
       "<Figure size 432x288 with 1 Axes>"
      ]
     },
     "metadata": {
      "needs_background": "light",
      "tags": []
     },
     "output_type": "display_data"
    }
   ],
   "source": [
    "plt.imshow(trainX_pretext[5])"
   ]
  },
  {
   "cell_type": "markdown",
   "metadata": {
    "id": "P4z4ofZBl1d3"
   },
   "source": [
    "## Vertically Flipping Image"
   ]
  },
  {
   "cell_type": "code",
   "execution_count": 6,
   "metadata": {
    "id": "6aMOBx2zhuKZ"
   },
   "outputs": [],
   "source": [
    "vertically_flipping=[]\n",
    "for i in trainX_pretext:\n",
    "  vertically_flipping.append(numpy.flipud(i))"
   ]
  },
  {
   "cell_type": "markdown",
   "metadata": {
    "id": "J_37UPanl6_B"
   },
   "source": [
    "## Rotating_Images_90_degree_clockwise"
   ]
  },
  {
   "cell_type": "code",
   "execution_count": 7,
   "metadata": {
    "id": "OC9GtdQOjEbk"
   },
   "outputs": [],
   "source": [
    "rotate90clockwise=[]\n",
    "for i in trainX_pretext:\n",
    "  rotate90clockwise.append(np.rot90(i))"
   ]
  },
  {
   "cell_type": "code",
   "execution_count": 8,
   "metadata": {
    "colab": {
     "base_uri": "https://localhost:8080/",
     "height": 283
    },
    "id": "XhhX8aJYicHV",
    "outputId": "a2841e65-4737-42b5-ef86-03be8c4568ce"
   },
   "outputs": [
    {
     "data": {
      "text/plain": [
       "<matplotlib.image.AxesImage at 0x7f7bb6468128>"
      ]
     },
     "execution_count": 8,
     "metadata": {
      "tags": []
     },
     "output_type": "execute_result"
    },
    {
     "data": {
      "image/png": "[encoded data removed]",
      "text/plain": [
       "<Figure size 432x288 with 1 Axes>"
      ]
     },
     "metadata": {
      "needs_background": "light",
      "tags": []
     },
     "output_type": "display_data"
    }
   ],
   "source": [
    "plt.imshow(vertically_flipping[5])"
   ]
  },
  {
   "cell_type": "code",
   "execution_count": 9,
   "metadata": {
    "colab": {
     "base_uri": "https://localhost:8080/",
     "height": 283
    },
    "id": "zYOjtWA7j0VH",
    "outputId": "0cf07285-de0e-4cd9-fd23-2ac11ff87ca7"
   },
   "outputs": [
    {
     "data": {
      "text/plain": [
       "<matplotlib.image.AxesImage at 0x7f7bb644f390>"
      ]
     },
     "execution_count": 9,
     "metadata": {
      "tags": []
     },
     "output_type": "execute_result"
    },
    {
     "data": {
      "image/png": "[encoded data removed]",
      "text/plain": [
       "<Figure size 432x288 with 1 Axes>"
      ]
     },
     "metadata": {
      "needs_background": "light",
      "tags": []
     },
     "output_type": "display_data"
    }
   ],
   "source": [
    "plt.imshow(rotate90clockwise[5])"
   ]
  },
  {
   "cell_type": "markdown",
   "metadata": {
    "id": "QfSjuCxfJBzY"
   },
   "source": [
    "## Concatenating Dataset and creating pretext train data"
   ]
  },
  {
   "cell_type": "code",
   "execution_count": 10,
   "metadata": {
    "id": "fGk7EfV2kaRd"
   },
   "outputs": [],
   "source": [
    "pretext_data=np.concatenate((trainX_pretext,vertically_flipping,rotate90clockwise),0)"
   ]
  },
  {
   "cell_type": "markdown",
   "metadata": {
    "id": "Xoq1at4iJJnS"
   },
   "source": [
    "## Creating Labels for Pretext Data "
   ]
  },
  {
   "cell_type": "code",
   "execution_count": 11,
   "metadata": {
    "id": "lbYt_3GJptsj"
   },
   "outputs": [],
   "source": [
    "pretext_y=np.concatenate(([0]*49500,[1]*49500,[2]*49500),0)"
   ]
  },
  {
   "cell_type": "markdown",
   "metadata": {
    "id": "uEQcj48_JbOX"
   },
   "source": [
    "## Function for normalizing and standardizing and converting the data into Channels x Length X Width"
   ]
  },
  {
   "cell_type": "code",
   "execution_count": 12,
   "metadata": {
    "id": "ekTIYllvp8U-"
   },
   "outputs": [],
   "source": [
    "def data_manipulation_pretext(train_X):\n",
    "  valid_norm= np.array(train_X)/255\n",
    "  valid_norm_standardized=function_std(valid_norm)\n",
    "  conver_validX= change_into_channels(valid_norm_standardized)\n",
    "  return conver_validX\n",
    "  "
   ]
  },
  {
   "cell_type": "markdown",
   "metadata": {
    "id": "9Qo7UyUEJlsS"
   },
   "source": [
    "## Pretext Final Data to be Trained"
   ]
  },
  {
   "cell_type": "code",
   "execution_count": 13,
   "metadata": {
    "id": "ggTJgx5Qqnt0"
   },
   "outputs": [],
   "source": [
    "pretext_data_final= data_manipulation_pretext(pretext_data)"
   ]
  },
  {
   "cell_type": "code",
   "execution_count": 14,
   "metadata": {
    "colab": {
     "base_uri": "https://localhost:8080/",
     "height": 301
    },
    "id": "aOFN0jdHqu3k",
    "outputId": "77de2bb6-9f03-4933-c94b-eebcb370afec"
   },
   "outputs": [
    {
     "name": "stderr",
     "output_type": "stream",
     "text": [
      "Clipping input data to the valid range for imshow with RGB data ([0..1] for floats or [0..255] for integers).\n"
     ]
    },
    {
     "data": {
      "text/plain": [
       "<matplotlib.image.AxesImage at 0x7f7bb63fb5f8>"
      ]
     },
     "execution_count": 14,
     "metadata": {
      "tags": []
     },
     "output_type": "execute_result"
    },
    {
     "data": {
      "image/png": "[encoded data removed]",
      "text/plain": [
       "<Figure size 432x288 with 1 Axes>"
      ]
     },
     "metadata": {
      "needs_background": "light",
      "tags": []
     },
     "output_type": "display_data"
    }
   ],
   "source": [
    "plt.imshow(np.transpose(pretext_data_final[5], (1,2,0)))"
   ]
  },
  {
   "cell_type": "code",
   "execution_count": 15,
   "metadata": {
    "colab": {
     "base_uri": "https://localhost:8080/",
     "height": 301
    },
    "id": "S5rrFUEPrHGg",
    "outputId": "30e3e82e-284c-46dd-b9eb-c1fceb922090"
   },
   "outputs": [
    {
     "name": "stderr",
     "output_type": "stream",
     "text": [
      "Clipping input data to the valid range for imshow with RGB data ([0..1] for floats or [0..255] for integers).\n"
     ]
    },
    {
     "data": {
      "text/plain": [
       "<matplotlib.image.AxesImage at 0x7f7bb329fda0>"
      ]
     },
     "execution_count": 15,
     "metadata": {
      "tags": []
     },
     "output_type": "execute_result"
    },
    {
     "data": {
      "image/png": "[encoded data removed]",
      "text/plain": [
       "<Figure size 432x288 with 1 Axes>"
      ]
     },
     "metadata": {
      "needs_background": "light",
      "tags": []
     },
     "output_type": "display_data"
    }
   ],
   "source": [
    "plt.imshow(np.transpose(pretext_data_final[49505], (1,2,0)))"
   ]
  },
  {
   "cell_type": "code",
   "execution_count": 16,
   "metadata": {
    "colab": {
     "base_uri": "https://localhost:8080/",
     "height": 301
    },
    "id": "OFydd4z7rMmj",
    "outputId": "504dd9b6-32a8-4d98-89f2-5a62ebe1e94d"
   },
   "outputs": [
    {
     "name": "stderr",
     "output_type": "stream",
     "text": [
      "Clipping input data to the valid range for imshow with RGB data ([0..1] for floats or [0..255] for integers).\n"
     ]
    },
    {
     "data": {
      "text/plain": [
       "<matplotlib.image.AxesImage at 0x7f7bb3284b38>"
      ]
     },
     "execution_count": 16,
     "metadata": {
      "tags": []
     },
     "output_type": "execute_result"
    },
    {
     "data": {
      "image/png": "[encoded data removed]",
      "text/plain": [
       "<Figure size 432x288 with 1 Axes>"
      ]
     },
     "metadata": {
      "needs_background": "light",
      "tags": []
     },
     "output_type": "display_data"
    }
   ],
   "source": [
    "plt.imshow(np.transpose(pretext_data_final[99005], (1,2,0)))"
   ]
  },
  {
   "cell_type": "markdown",
   "metadata": {
    "id": "JSTqyk0TKx54"
   },
   "source": [
    "## Zipping the pretext data and labels and shuffling them "
   ]
  },
  {
   "cell_type": "code",
   "execution_count": 17,
   "metadata": {
    "id": "WgmlkL86FHkP"
   },
   "outputs": [],
   "source": [
    "gh= list(zip(pretext_data_final,pretext_y))\n",
    "random.shuffle(gh)"
   ]
  },
  {
   "cell_type": "markdown",
   "metadata": {
    "id": "mL-e3CRAK7dQ"
   },
   "source": [
    "## Unzipping the shuffled data "
   ]
  },
  {
   "cell_type": "code",
   "execution_count": 18,
   "metadata": {
    "id": "Q7l0LITjFP36"
   },
   "outputs": [],
   "source": [
    "input_im=[]\n",
    "input_label=[]\n",
    "for i , (im ,lb) in enumerate(gh):\n",
    "\n",
    "  input_im.append(im) ## contains the images\n",
    "  input_label.append(lb) ## contains the labels"
   ]
  },
  {
   "cell_type": "code",
   "execution_count": 19,
   "metadata": {
    "colab": {
     "base_uri": "https://localhost:8080/",
     "height": 34
    },
    "id": "glxW_ts2F2ex",
    "outputId": "ba626c70-c18f-4934-ed50-00ef11a55681"
   },
   "outputs": [
    {
     "name": "stdout",
     "output_type": "stream",
     "text": [
      "(148500, 3, 32, 32)\n"
     ]
    }
   ],
   "source": [
    "print(np.shape(input_im))"
   ]
  },
  {
   "cell_type": "markdown",
   "metadata": {
    "id": "bJefORAQKOac"
   },
   "source": [
    "## Pretext Model"
   ]
  },
  {
   "cell_type": "code",
   "execution_count": 20,
   "metadata": {
    "id": "n_xFgV4_nA2t"
   },
   "outputs": [],
   "source": [
    "class Pretext(nn.Module):\n",
    "    def __init__(self):\n",
    "        super(Pretext, self).__init__()\n",
    "        \n",
    "        self.conv1 = nn.Conv2d(3, 10,  kernel_size=5, stride=1)\n",
    "        torch.nn.init.kaiming_normal_(self.conv1.weight)\n",
    "        self.pool1 = nn.MaxPool2d(2, 2)\n",
    "        self.conv2 = nn.Conv2d(10, 10, kernel_size=5, stride=1)\n",
    "        torch.nn.init.kaiming_normal_(self.conv2.weight)\n",
    "        self.pool2 = nn.MaxPool2d(2, stride=2)\n",
    "        self.layer3 = torch.nn.Linear(5*5*10, 20)\n",
    "        torch.nn.init.kaiming_normal_(self.layer3.weight)\n",
    "        self.layer4=torch.nn.Linear(20, 3)\n",
    "        torch.nn.init.kaiming_normal_(self.layer4.weight)\n",
    "        self.act=nn.ReLU()\n",
    "\n",
    "    def forward(self, x):\n",
    "        out1 = self.act(self.conv1(x))\n",
    "        out2 = self.pool1(out1)\n",
    "        out3 = self.act(self.conv2(out2))\n",
    "        out4 = self.pool2(out3)\n",
    "        out5 = out4.reshape(out4.size(0), out4.size(1)*out4.size(2)*out4.size(3))\n",
    "        out6 = self.act(self.layer3(out5))\n",
    "        out7 = self.layer4(out6)\n",
    "        return out7"
   ]
  },
  {
   "cell_type": "markdown",
   "metadata": {
    "id": "bnjLp5rcKQ6_"
   },
   "source": [
    "## Function for calculating Accuracy"
   ]
  },
  {
   "cell_type": "code",
   "execution_count": 21,
   "metadata": {
    "id": "onuNLimFfAho"
   },
   "outputs": [],
   "source": [
    "def accuracy(model,test_X,test_Y): ## model, test data, test labels as input\n",
    "\n",
    "  with torch.no_grad():\n",
    "      correct = 0\n",
    "      total = 0\n",
    "    \n",
    "      labels = test_Y.cuda()\n",
    "      outputs = model(test_X).cuda()\n",
    "      # print(outputs,\"outputs\")\n",
    "      # print(torch.max(outputs.data, 1),\"max\")\n",
    "      _, predicted = torch.max(outputs.data, 1)\n",
    "      total += labels.size(0)\n",
    "      # print(labels.size(0),\"labels size\")\n",
    "      # print(predicted,\"predicted\")\n",
    "\n",
    "      # print(labels,\"labels\")\n",
    "\n",
    "      correct += (predicted == labels).sum().item()\n",
    "      accuracy =100 * correct / total\n",
    "  return accuracy"
   ]
  },
  {
   "cell_type": "markdown",
   "metadata": {
    "id": "vqNj2wFtLQQC"
   },
   "source": [
    "## Initializing the Pretext_model"
   ]
  },
  {
   "cell_type": "code",
   "execution_count": 22,
   "metadata": {
    "id": "mmlnU-Cbn55z"
   },
   "outputs": [],
   "source": [
    "Pretext_model = Pretext().cuda()"
   ]
  },
  {
   "cell_type": "markdown",
   "metadata": {
    "id": "1IJp9Y-gLXvE"
   },
   "source": [
    "## Pretext_model_function "
   ]
  },
  {
   "cell_type": "markdown",
   "metadata": {
    "id": "rPHAY-tZLezT"
   },
   "source": [
    "We have taken a batch size of 300 and cross entropy loss function to calculate the weights of the model based on the architecture described above "
   ]
  },
  {
   "cell_type": "code",
   "execution_count": 23,
   "metadata": {
    "id": "_4Z1ED3eoBNp"
   },
   "outputs": [],
   "source": [
    "def function_pretext(model,input,train):\n",
    "  \n",
    "  input1= torch.FloatTensor(input).cuda()\n",
    "  train1=torch.tensor(train).type(torch.LongTensor).cuda()\n",
    "\n",
    "  accuracy1=[]\n",
    "\n",
    "  criterion = torch.nn.CrossEntropyLoss()\n",
    "  \n",
    "  optimizer = torch.optim.Adam(model.parameters(),lr=0.001)\n",
    "  errt=[0 for i in range(100)]\n",
    "  for epoch in range(100):\n",
    "      running_loss=0\n",
    "      for k in range(int(len(input1)/300)):\n",
    "          images=input1[300*k:300*(k+1)] \n",
    "          labels= train1[300*k:300*(k+1)]\n",
    "\n",
    "          \n",
    "          # Move tensors to the configured device\n",
    "          # images1= torch.FloatTensor(images).cuda()\n",
    "\n",
    "\n",
    "          # Forward pass\n",
    "          outputs =model(images).cuda()\n",
    "          \n",
    "          loss = criterion(outputs.cuda(), labels.cuda())\n",
    "          \n",
    "          # Backward and optimize\n",
    "          optimizer.zero_grad()\n",
    "          loss.backward()\n",
    "          optimizer.step()\n",
    "          running_loss+=loss.item()\n",
    "      \n",
    "      errt[epoch]=running_loss/(k+1)\n",
    "      accuracy_c=accuracy(model,images,labels)\n",
    "      accuracy1.append(accuracy_c)\n",
    "      print(\"Epoch:\", epoch,\"Loss:\",running_loss/(k+1),\"accuracy:\",accuracy_c)\n",
    "  return errt,accuracy1"
   ]
  },
  {
   "cell_type": "code",
   "execution_count": null,
   "metadata": {
    "id": "OIvhiq76r3eN"
   },
   "outputs": [],
   "source": [
    "new_model_pretext_error= function_pretext(Pretext_model,input_im,input_label)"
   ]
  },
  {
   "cell_type": "code",
   "execution_count": 25,
   "metadata": {
    "colab": {
     "base_uri": "https://localhost:8080/",
     "height": 606
    },
    "id": "hdvluOalyhdX",
    "outputId": "521c4f6a-e80a-45af-adff-df170b8f1b93"
   },
   "outputs": [
    {
     "data": {
      "image/png": "[encoded data removed]",
      "text/plain": [
       "<Figure size 1440x720 with 1 Axes>"
      ]
     },
     "metadata": {
      "needs_background": "light",
      "tags": []
     },
     "output_type": "display_data"
    }
   ],
   "source": [
    "plt.figure(figsize=(20,10))\n",
    "plt.plot(new_model_pretext_error[0],label=\"Error plot on Training Data for Pretext Model for 100 epochs\")\n",
    "plt.legend()\n",
    "plt.title('Error plot on Training Data for Pretext Model for 100 epochs')\n",
    "plt.show()"
   ]
  },
  {
   "cell_type": "markdown",
   "metadata": {
    "id": "rR_WMRCZMnRt"
   },
   "source": [
    "## Weights of Pretext Model after Training"
   ]
  },
  {
   "cell_type": "code",
   "execution_count": 26,
   "metadata": {
    "colab": {
     "base_uri": "https://localhost:8080/",
     "height": 0
    },
    "id": "WS28DjOc0uPd",
    "outputId": "085a8817-da36-44c9-a09a-593fc72a7052"
   },
   "outputs": [
    {
     "name": "stdout",
     "output_type": "stream",
     "text": [
      "conv1.weight \t tensor([[[[-2.1323e-01,  3.2313e-01, -5.8674e-01, -2.7880e-02, -2.3479e-01],\n",
      "          [ 5.7846e-02, -3.6354e-01, -5.8485e-01, -1.5690e-01, -2.4723e-01],\n",
      "          [-4.0160e-02,  1.0879e-01, -3.2271e-01,  2.8756e-02, -1.7859e-01],\n",
      "          [ 6.0092e-02,  3.9359e-01,  2.9428e-01,  5.5978e-02,  9.7662e-02],\n",
      "          [ 3.1798e-01,  1.7798e-01, -3.3139e-02, -7.4776e-02, -4.6524e-01]],\n",
      "\n",
      "         [[-1.6506e-01, -9.6327e-02, -3.8114e-01,  1.3293e-01,  4.9756e-01],\n",
      "          [-7.9798e-02,  1.7202e-01, -2.4154e-01,  1.3682e-01,  1.1442e-01],\n",
      "          [-4.3182e-01, -3.7511e-01, -1.5951e-01,  3.1278e-01,  4.1241e-01],\n",
      "          [ 5.7322e-02, -1.3807e-01, -2.0789e-01, -1.7485e-02,  7.9063e-02],\n",
      "          [ 1.8715e-02,  2.1047e-01, -1.7084e-01, -1.1639e-01,  4.8483e-01]],\n",
      "\n",
      "         [[ 3.2949e-01,  3.9364e-01,  5.7335e-01,  1.8290e-01,  2.3392e-01],\n",
      "          [ 9.8332e-02,  3.2808e-01,  2.5170e-01, -1.3674e-01, -1.7231e-01],\n",
      "          [ 4.6086e-01,  4.5142e-01,  4.5571e-02,  5.3942e-02, -9.8387e-03],\n",
      "          [-1.9036e-01, -4.6366e-02, -1.6621e-01,  6.8737e-02, -4.0615e-01],\n",
      "          [-4.4060e-01, -2.2436e-01, -8.9282e-02,  9.3298e-02,  1.7140e-01]]],\n",
      "\n",
      "\n",
      "        [[[ 5.3631e-02,  1.1444e-01, -1.9275e-01, -1.0389e-01,  1.5432e-02],\n",
      "          [ 7.0837e-02, -6.9320e-02, -6.4975e-02, -6.7221e-02,  8.3434e-02],\n",
      "          [-2.5043e-01,  5.6098e-02, -2.0650e-01, -5.6318e-01, -5.7346e-02],\n",
      "          [ 5.9433e-02,  1.4032e-01,  3.8078e-02,  2.4734e-01, -2.0622e-01],\n",
      "          [ 3.9805e-02,  1.8183e-02,  4.7104e-01,  4.6992e-01, -1.4339e-01]],\n",
      "\n",
      "         [[-2.9247e-01, -2.4027e-02,  8.4534e-02, -1.3169e-01,  1.5087e-02],\n",
      "          [ 4.3220e-02, -9.1372e-02,  1.9297e-01, -8.6360e-02,  1.6073e-01],\n",
      "          [-7.0202e-02,  3.1270e-01, -1.9586e-01, -1.8374e-01,  1.8120e-01],\n",
      "          [ 4.3661e-01,  9.6599e-02,  3.0952e-01,  8.7493e-02,  1.8746e-01],\n",
      "          [-2.5244e-01, -1.5675e-01, -2.6492e-02, -7.5440e-02,  5.5270e-02]],\n",
      "\n",
      "         [[-2.1743e-02, -3.9526e-01,  1.1278e-02,  3.3584e-02, -9.5765e-03],\n",
      "          [ 1.4066e-01, -6.0306e-02, -7.1800e-02,  1.2907e-02, -2.7670e-01],\n",
      "          [-1.3586e-01,  4.4464e-01,  7.6862e-02, -4.6249e-01,  4.9101e-01],\n",
      "          [-2.0303e-01, -6.8450e-02, -2.2902e-01,  2.7831e-01,  6.0954e-01],\n",
      "          [-4.1148e-01, -4.5047e-01,  5.6291e-02,  5.6057e-01,  3.7582e-01]]],\n",
      "\n",
      "\n",
      "        [[[ 2.2087e-01,  4.2511e-02, -5.9280e-02,  4.0369e-01, -2.1921e-01],\n",
      "          [-1.7083e-01, -2.4033e-01,  1.6769e-02, -1.1625e-01, -3.3695e-01],\n",
      "          [-5.6953e-02,  1.1756e-01, -1.1748e-01, -2.5478e-01, -7.3501e-02],\n",
      "          [ 1.8309e-01, -4.5062e-01,  7.9092e-01, -3.8875e-01,  2.2224e-01],\n",
      "          [ 6.1440e-02, -2.2316e-01,  4.8932e-01, -2.9068e-01,  3.4519e-01]],\n",
      "\n",
      "         [[-2.7179e-02, -3.7474e-01,  1.2460e-01,  8.8104e-02,  6.7126e-02],\n",
      "          [ 1.3790e-02, -2.7691e-02, -1.5584e-01,  1.8300e-01, -2.0380e-01],\n",
      "          [ 1.2528e-01, -2.2121e-01, -1.0897e-02,  3.4488e-01,  1.2132e-01],\n",
      "          [ 3.9286e-01, -5.3628e-01,  4.4098e-01, -1.1305e-01,  7.1804e-02],\n",
      "          [ 2.3749e-01, -5.2910e-01,  3.1194e-01, -5.9235e-01,  3.1955e-01]],\n",
      "\n",
      "         [[-3.1499e-01,  4.5380e-01, -4.2151e-02,  9.8229e-03, -1.7431e-02],\n",
      "          [ 2.5426e-02,  1.3469e-01, -6.7222e-02, -2.6679e-01, -3.9123e-02],\n",
      "          [-3.0019e-03, -1.5383e-01,  2.4537e-01, -5.6778e-02, -1.8657e-01],\n",
      "          [ 1.4960e-01, -1.1745e-01,  2.7282e-01, -1.9710e-01,  3.0875e-01],\n",
      "          [ 2.1436e-01, -5.0656e-01,  5.0709e-01, -4.1093e-01,  2.7950e-02]]],\n",
      "\n",
      "\n",
      "        [[[-5.3150e-02,  6.6532e-02,  1.3033e-01,  2.4530e-01,  7.6837e-02],\n",
      "          [-3.2034e-01,  3.2474e-02,  2.3006e-01, -1.5927e-02, -4.2053e-02],\n",
      "          [-2.1263e-01,  1.2883e-01,  1.8207e-01,  2.9011e-01, -4.7698e-03],\n",
      "          [-3.8481e-01, -1.6362e-01,  4.0100e-02, -2.7537e-01,  7.2969e-02],\n",
      "          [-4.7702e-01, -2.7188e-01, -2.0739e-01, -1.5720e-01, -3.5171e-02]],\n",
      "\n",
      "         [[-9.7743e-02,  1.5145e-01,  2.9078e-02,  2.4927e-01,  2.8742e-01],\n",
      "          [-3.1442e-01,  1.5563e-01, -1.5933e-02, -3.6997e-01, -1.2998e-01],\n",
      "          [ 2.2776e-02,  1.6627e-01, -3.0258e-02,  2.1218e-02,  2.5164e-01],\n",
      "          [ 3.8340e-01,  1.4456e-01, -7.8038e-02,  1.9114e-02, -2.7745e-01],\n",
      "          [-1.1718e-01,  1.9347e-01, -2.4588e-01, -2.2664e-01,  2.3417e-01]],\n",
      "\n",
      "         [[ 6.4507e-01,  3.0185e-02, -2.1262e-01, -2.7981e-01, -3.1700e-01],\n",
      "          [ 1.4267e-01,  1.9187e-01, -3.1017e-01, -1.6636e-03, -2.1009e-01],\n",
      "          [ 1.9156e-01, -6.1914e-02,  6.2507e-02, -1.1760e-01, -1.9672e-03],\n",
      "          [-1.9320e-01,  1.2736e-01,  5.4766e-02,  3.6956e-02,  1.5665e-02],\n",
      "          [ 4.6357e-01,  5.7437e-01,  4.5718e-01,  3.4415e-01,  3.3776e-01]]],\n",
      "\n",
      "\n",
      "        [[[ 6.4042e-01,  6.9068e-01,  2.3644e-01,  2.4367e-01,  3.1759e-02],\n",
      "          [ 1.0635e-01, -2.7552e-01, -1.6369e-01, -3.5921e-01, -2.3262e-01],\n",
      "          [-3.9479e-02,  7.8029e-02, -3.8425e-01, -1.7645e-01,  1.6561e-02],\n",
      "          [-3.6417e-01,  5.8280e-02,  4.2484e-01,  3.6256e-01,  3.1194e-01],\n",
      "          [ 9.7172e-02, -1.4943e-01, -3.5300e-01, -3.2366e-01, -1.9303e-01]],\n",
      "\n",
      "         [[-2.2195e-01, -2.6225e-01, -1.6907e-01,  1.4021e-01,  2.1617e-01],\n",
      "          [-4.2873e-01, -3.6392e-01, -3.0847e-01, -2.7673e-01, -3.3114e-01],\n",
      "          [ 1.7717e-01,  6.0334e-02, -3.5526e-01, -2.9297e-01,  6.9737e-02],\n",
      "          [ 1.6528e-01,  1.5103e-01,  4.6418e-01,  2.7496e-01, -2.1165e-01],\n",
      "          [ 1.4055e-01,  2.1008e-01,  8.9057e-02,  1.7408e-01,  3.2670e-01]],\n",
      "\n",
      "         [[-1.3935e-01,  1.2462e-02,  3.2838e-01, -2.9788e-03,  2.9578e-01],\n",
      "          [ 9.5254e-02,  1.1618e-01,  4.1532e-02, -4.5463e-02, -2.1165e-01],\n",
      "          [ 1.3545e-01,  1.5212e-01, -2.3306e-01, -4.1396e-02, -8.8635e-02],\n",
      "          [-1.8573e-01,  3.7931e-03,  3.9998e-01,  8.8424e-02,  3.9857e-02],\n",
      "          [-1.4842e-01, -8.1761e-02, -2.6581e-01,  1.1069e-02,  5.7691e-02]]],\n",
      "\n",
      "\n",
      "        [[[ 6.2235e-02, -2.3891e-01,  1.2532e-01, -1.9960e-01,  9.9727e-02],\n",
      "          [-1.7385e-01,  5.9741e-02, -8.3258e-02,  5.2328e-02,  3.0353e-02],\n",
      "          [ 9.6468e-02,  3.4108e-02, -2.2671e-01, -2.1884e-01, -1.7407e-01],\n",
      "          [ 3.5960e-01,  1.4510e-01,  9.7613e-02, -1.2305e-01,  1.5849e-01],\n",
      "          [-1.2689e-01,  7.6334e-02, -7.9936e-02, -1.3332e-01, -1.7672e-01]],\n",
      "\n",
      "         [[-3.8637e-01, -1.4436e-01,  3.1000e-02,  7.2810e-02,  1.6798e-02],\n",
      "          [-1.8863e-01, -6.1133e-02,  4.5490e-03, -6.3044e-02, -1.2418e-01],\n",
      "          [-3.1760e-01,  1.7440e-02,  1.2275e-01,  2.8820e-01,  3.7670e-01],\n",
      "          [-3.9500e-01,  1.2303e-02, -6.8112e-02,  1.1467e-01, -6.9111e-02],\n",
      "          [-2.9759e-01,  1.2567e-01, -9.5091e-02,  5.7249e-03, -4.2176e-02]],\n",
      "\n",
      "         [[ 1.8428e-01,  2.0698e-03, -3.2497e-01, -6.2901e-02, -1.8645e-02],\n",
      "          [-2.1861e-01, -8.5478e-02,  8.7675e-03,  5.1762e-02,  8.5711e-02],\n",
      "          [-4.5625e-01,  1.4136e-01,  1.2450e-01, -6.9175e-02, -9.5370e-02],\n",
      "          [-4.7418e-02,  8.3576e-02,  1.9904e-02,  2.3983e-02, -9.0346e-03],\n",
      "          [ 9.1122e-03, -5.9333e-02,  1.8181e-01, -1.1383e-01,  2.4599e-02]]],\n",
      "\n",
      "\n",
      "        [[[ 1.4470e-02, -9.9124e-02, -1.8528e-01,  3.1577e-01,  4.5283e-01],\n",
      "          [-8.0937e-02, -2.6278e-01, -1.9748e-01, -6.7594e-01, -2.5244e-01],\n",
      "          [-3.1574e-02, -5.2635e-02,  4.0836e-01,  3.5277e-01,  3.6897e-01],\n",
      "          [-4.2665e-03,  1.4533e-01, -3.8720e-01, -4.9540e-01, -1.9313e-01],\n",
      "          [ 2.9665e-02, -8.5750e-02,  1.0026e-01,  1.2026e-01,  5.5055e-01]],\n",
      "\n",
      "         [[ 1.4691e-02,  2.7895e-01,  2.1963e-01,  7.5284e-02,  1.9490e-01],\n",
      "          [ 7.8309e-02,  1.1229e-01, -4.2527e-01, -4.2774e-01, -4.0110e-01],\n",
      "          [-8.5467e-02,  1.6646e-01,  2.6224e-01,  6.0064e-01,  2.2313e-01],\n",
      "          [ 1.3523e-02, -1.1285e-01, -3.3784e-01, -3.8989e-01, -4.8050e-01],\n",
      "          [-7.8508e-02,  5.6943e-02,  1.2337e-01,  3.1510e-01,  1.7072e-01]],\n",
      "\n",
      "         [[-2.1142e-01, -5.7274e-02,  5.3421e-02,  7.8719e-02, -1.6268e-02],\n",
      "          [ 7.2731e-02, -2.9832e-02, -2.4150e-01, -8.4396e-02, -6.3938e-02],\n",
      "          [-1.2274e-02,  3.8067e-02,  1.2337e-01,  3.9269e-01,  1.6376e-01],\n",
      "          [ 1.4993e-01,  2.3246e-01, -2.8843e-02, -5.6059e-01,  2.4814e-02],\n",
      "          [-1.2485e-01, -1.2135e-01, -2.2444e-01,  3.2082e-01,  4.5557e-04]]],\n",
      "\n",
      "\n",
      "        [[[-2.0769e-01,  7.6461e-02, -3.6141e-01, -3.5649e-01, -2.5211e-01],\n",
      "          [-6.9774e-02, -5.3388e-02, -6.4121e-02, -1.2332e-01, -6.2878e-02],\n",
      "          [ 6.5930e-02, -3.1749e-01,  4.9465e-02,  3.3743e-01, -9.3374e-02],\n",
      "          [ 2.8218e-01, -6.4872e-02, -1.8781e-01,  1.3539e-01, -6.1771e-02],\n",
      "          [ 1.8687e-01,  2.2295e-01,  4.0496e-02,  3.2478e-01,  1.3347e-01]],\n",
      "\n",
      "         [[ 1.0127e-01,  5.3934e-01,  1.1209e-01, -1.2216e-01, -4.0639e-01],\n",
      "          [ 1.6848e-01,  2.0210e-02, -2.1205e-01, -8.2743e-02, -5.7299e-02],\n",
      "          [-7.8890e-02, -2.7774e-01,  3.3315e-01,  1.8621e-01,  1.9747e-02],\n",
      "          [-9.4687e-02, -3.9121e-02,  2.0199e-01, -2.4855e-03, -1.8390e-01],\n",
      "          [ 3.3713e-02,  7.0779e-03, -2.4606e-02,  1.2911e-01,  2.0902e-02]],\n",
      "\n",
      "         [[ 7.8385e-02,  1.7621e-01, -2.4350e-01, -5.0952e-01, -1.2109e-01],\n",
      "          [ 4.5111e-02, -1.6270e-01, -1.9453e-01,  6.6632e-02, -3.9149e-01],\n",
      "          [ 1.4387e-01, -4.4955e-02,  3.1654e-01,  1.4520e-01, -5.2131e-03],\n",
      "          [-1.9317e-01, -5.5157e-02, -1.3274e-02,  2.0271e-01, -5.4944e-02],\n",
      "          [-5.3283e-03,  1.1504e-01,  3.2373e-02, -4.9086e-02,  3.0352e-01]]],\n",
      "\n",
      "\n",
      "        [[[ 4.6200e-01,  3.0813e-02,  1.3725e-01,  9.1900e-03,  3.5865e-01],\n",
      "          [ 1.3215e-01,  1.2703e-02,  1.6411e-01,  1.4042e-01,  2.5260e-01],\n",
      "          [-3.2176e-01, -1.0317e-01,  3.8758e-02, -1.0958e-01, -4.7721e-02],\n",
      "          [ 1.9031e-02, -4.2006e-02, -4.5785e-01, -1.0385e-01, -1.0100e-01],\n",
      "          [-1.8511e-01,  2.7845e-01, -4.1581e-01, -2.3422e-01, -3.7391e-01]],\n",
      "\n",
      "         [[-2.8562e-01, -9.6326e-02,  1.8248e-02,  4.8437e-02, -2.2208e-01],\n",
      "          [ 1.3126e-01, -9.0523e-02,  2.5848e-02,  7.1612e-03, -6.9105e-02],\n",
      "          [-4.4536e-02, -1.8990e-02,  1.4187e-01,  7.0278e-01,  1.0463e-01],\n",
      "          [ 7.3633e-02, -6.6667e-02, -2.7685e-01,  3.5096e-01,  3.9496e-01],\n",
      "          [-9.3712e-02,  1.1555e-01, -4.1086e-01, -1.2663e-01, -6.7792e-02]],\n",
      "\n",
      "         [[ 1.5980e-01,  4.2233e-03, -1.1807e-01,  4.3058e-02, -6.1018e-02],\n",
      "          [ 3.8608e-02,  1.8608e-01,  2.2382e-02, -5.5267e-02, -1.0082e-02],\n",
      "          [-5.0422e-02,  2.1525e-01, -9.0614e-02,  1.1680e-01,  1.7221e-01],\n",
      "          [-1.0547e-01, -4.2692e-01, -5.0209e-01,  1.2915e-01,  5.5448e-02],\n",
      "          [ 1.4592e-01,  3.1412e-01,  4.1274e-02, -3.2265e-01, -2.4806e-01]]],\n",
      "\n",
      "\n",
      "        [[[ 2.2004e-01,  1.9399e-01, -2.1695e-01, -3.9327e-02, -8.9385e-02],\n",
      "          [ 9.7827e-02,  7.4883e-02, -3.7919e-01, -2.1854e-01,  2.2852e-01],\n",
      "          [ 2.6652e-01,  3.5556e-01, -6.4052e-02, -2.7556e-01,  9.5722e-02],\n",
      "          [-1.9635e-01,  3.1106e-01, -3.1162e-01, -2.7737e-01,  2.4926e-01],\n",
      "          [ 4.3347e-01, -7.0556e-02, -3.2663e-01, -1.7385e-01, -7.2302e-02]],\n",
      "\n",
      "         [[ 2.1125e-02, -9.7600e-02, -2.8763e-01,  2.2833e-02, -1.7809e-01],\n",
      "          [ 1.3423e-01,  2.2627e-01,  1.3246e-01, -9.0451e-02,  1.8597e-01],\n",
      "          [ 1.2333e-01,  6.2487e-02, -4.3502e-01, -2.2953e-01,  2.3354e-01],\n",
      "          [ 3.1153e-02,  7.2954e-01, -2.0396e-01, -4.4702e-01,  2.7742e-01],\n",
      "          [ 1.3441e-01, -8.6611e-02, -1.6564e-01, -3.8808e-02,  9.3143e-02]],\n",
      "\n",
      "         [[ 9.1087e-02, -6.2329e-02, -5.0001e-02,  1.8663e-01,  8.0181e-02],\n",
      "          [-3.3075e-01,  3.3015e-01, -7.7022e-02, -3.8152e-01,  1.6724e-01],\n",
      "          [ 3.0665e-01,  8.6729e-02, -2.0850e-01, -2.6444e-01,  4.6215e-02],\n",
      "          [ 1.2157e-01,  3.6919e-01, -9.7931e-02, -3.0652e-01, -4.1640e-02],\n",
      "          [ 7.1975e-02,  1.1263e-01, -2.0165e-01,  6.0155e-02, -6.9165e-02]]]],\n",
      "       device='cuda:0')\n",
      "conv1.bias \t tensor([ 0.0791, -0.3469, -0.0539,  0.1327, -0.0941, -0.3260, -0.0110, -0.0728,\n",
      "        -0.0650, -0.0935], device='cuda:0')\n",
      "conv2.weight \t tensor([[[[ 3.1788e-02,  1.5110e-02, -1.1943e-01, -1.8275e-02, -3.0256e-01],\n",
      "          [ 1.4664e-01,  1.4275e-01,  2.9534e-01,  3.3750e-01,  1.3148e-01],\n",
      "          [-8.4762e-02, -2.8908e-01, -1.7953e-02, -1.6252e-01, -8.8375e-02],\n",
      "          [ 7.6841e-03,  1.8437e-01,  2.5517e-01,  6.2915e-02, -3.1426e-02],\n",
      "          [ 1.7769e-02, -1.4517e-01, -1.2811e-01, -2.8545e-01, -1.2673e-02]],\n",
      "\n",
      "         [[ 6.1393e-03, -2.5765e-01, -2.8995e-01, -1.1308e-01,  4.6137e-02],\n",
      "          [-3.2384e-02,  1.6414e-02,  2.1403e-01,  1.3556e-01, -1.5892e-01],\n",
      "          [ 1.7365e-01,  7.5462e-02, -2.5920e-01, -1.1423e-02, -2.8128e-01],\n",
      "          [ 3.5409e-02,  2.9628e-02, -1.2518e-01,  1.6123e-01,  9.8912e-02],\n",
      "          [ 2.6715e-02, -5.0507e-03, -1.9803e-01, -1.5720e-01, -1.0771e-01]],\n",
      "\n",
      "         [[ 2.2201e-02,  2.8790e-01,  1.6896e-01,  1.3036e-01, -3.9600e-02],\n",
      "          [ 1.3524e-02,  1.5366e-01,  2.2020e-02,  1.6038e-01, -9.1902e-03],\n",
      "          [ 2.7825e-01,  3.4009e-01,  3.8277e-01,  4.7872e-01, -1.6729e-02],\n",
      "          [-1.2141e-01,  5.1771e-02,  2.6549e-01,  4.6810e-02,  4.2710e-01],\n",
      "          [ 9.1092e-02,  6.2535e-02,  2.2684e-01,  4.2775e-01,  1.3873e-01]],\n",
      "\n",
      "         ...,\n",
      "\n",
      "         [[ 9.3007e-02,  3.2370e-01,  1.5542e-02,  3.5068e-01, -6.5229e-01],\n",
      "          [-1.3850e-01, -1.1659e-01, -3.0435e-02,  1.7474e-01, -9.6824e-02],\n",
      "          [-1.5730e-01, -1.4343e-01,  9.1630e-02, -1.5562e-01, -1.8511e-01],\n",
      "          [-1.3278e-01,  4.5266e-02, -2.6881e-03,  5.1782e-03, -3.4908e-01],\n",
      "          [ 8.0342e-02,  4.9498e-03,  1.5787e-01,  3.5248e-02, -3.8187e-01]],\n",
      "\n",
      "         [[ 7.2021e-02, -1.9462e-01, -3.7378e-01, -2.8599e-02,  2.5600e-01],\n",
      "          [ 1.4539e-01,  2.4712e-01,  4.1685e-02, -1.2201e-02, -3.2046e-02],\n",
      "          [-3.6348e-02,  3.4130e-03, -1.3365e-01,  2.2319e-01,  1.6517e-01],\n",
      "          [ 1.0848e-01,  4.4355e-02,  1.4603e-01,  1.4749e-01, -8.5973e-03],\n",
      "          [-2.6764e-02, -4.4006e-02,  1.2677e-01,  2.9934e-02,  1.0347e-01]],\n",
      "\n",
      "         [[ 8.6155e-02, -1.0335e-01, -1.1091e-02, -1.7556e-02,  8.6654e-02],\n",
      "          [-3.3524e-02,  6.7619e-02,  3.6530e-02, -1.2663e-01,  2.9084e-01],\n",
      "          [-4.8550e-04, -1.7510e-01, -1.2613e-01, -2.2402e-01,  2.0749e-02],\n",
      "          [ 8.5108e-02,  9.4236e-03,  9.6304e-02,  7.6351e-02,  3.9254e-01],\n",
      "          [-2.2650e-01, -1.2778e-01, -3.1603e-01, -2.4520e-01, -3.8289e-01]]],\n",
      "\n",
      "\n",
      "        [[[ 4.1205e-01,  1.3093e-01,  3.4234e-01,  3.9066e-01,  8.0235e-01],\n",
      "          [ 2.5928e-02, -1.2802e-01, -2.1835e-01, -2.7410e-02, -2.0410e-01],\n",
      "          [-1.9304e-01, -1.1741e-01,  2.8681e-01, -2.8967e-02, -2.8390e-03],\n",
      "          [ 6.3713e-02,  5.0605e-02,  1.1526e-02, -7.1867e-02,  3.6831e-01],\n",
      "          [ 2.0491e-01, -3.5191e-01,  1.5884e-02, -3.0775e-01,  3.8423e-04]],\n",
      "\n",
      "         [[ 6.2197e-02,  2.6189e-01, -2.2379e-01,  2.1985e-02,  1.2362e-01],\n",
      "          [ 2.4175e-01, -1.6030e-01, -6.2096e-02, -8.9465e-02,  2.2574e-01],\n",
      "          [-1.1926e-01,  1.9679e-01,  9.4426e-02, -2.3031e-01,  8.6384e-02],\n",
      "          [-4.7426e-01, -1.5504e-02, -4.2897e-01,  5.6604e-02,  2.7343e-01],\n",
      "          [ 2.3849e-01,  3.1643e-01,  4.4362e-02, -2.6029e-01, -1.1714e-01]],\n",
      "\n",
      "         [[-3.6777e-02, -3.2042e-01,  4.9762e-02, -2.9743e-01, -2.8637e-01],\n",
      "          [ 1.1936e-01, -2.5720e-01,  1.9800e-03, -7.0975e-02, -2.6952e-02],\n",
      "          [-2.2183e-02, -2.8656e-01,  2.5305e-02,  1.6269e-01,  1.0288e-02],\n",
      "          [-6.7891e-02, -3.0340e-01,  3.2833e-01, -9.3586e-02, -3.9340e-02],\n",
      "          [-2.4497e-03, -7.3612e-02, -2.9567e-02,  1.6399e-02,  1.1110e-02]],\n",
      "\n",
      "         ...,\n",
      "\n",
      "         [[ 2.3508e-02,  7.4557e-02, -5.0024e-02,  1.3327e-02, -6.3752e-02],\n",
      "          [ 8.7486e-02,  3.7612e-03,  5.9192e-02,  4.8857e-02,  9.5001e-03],\n",
      "          [-8.8746e-02,  2.3401e-03, -1.9095e-01,  1.5006e-01,  2.1133e-01],\n",
      "          [ 6.4159e-02,  8.4917e-02,  1.6905e-02, -3.7047e-02,  8.7717e-02],\n",
      "          [-7.2889e-02, -1.5735e-01,  1.2299e-01, -1.0702e-01,  1.0083e-01]],\n",
      "\n",
      "         [[-9.2290e-02, -1.2245e-01,  1.6552e-01, -8.6932e-02, -1.7935e-01],\n",
      "          [-1.3129e-01, -7.7234e-02, -7.6453e-02, -1.1950e-01,  2.0668e-01],\n",
      "          [ 1.0864e-01,  1.4670e-01,  5.4072e-02,  1.9147e-01, -3.2556e-02],\n",
      "          [-1.7637e-01,  4.2836e-02,  2.2279e-01,  8.4592e-02,  6.6334e-02],\n",
      "          [-1.5372e-01,  4.7495e-02, -1.7748e-01, -4.1706e-02,  7.9278e-03]],\n",
      "\n",
      "         [[ 9.8766e-02, -1.9750e-01,  1.1636e-01, -1.5232e-02,  9.8890e-04],\n",
      "          [-1.1723e-02,  8.3881e-02, -1.4470e-01, -1.0188e-01, -1.4827e-01],\n",
      "          [ 4.2898e-02, -1.2280e-01, -7.6406e-02,  2.2006e-02,  1.7945e-01],\n",
      "          [ 6.2657e-02,  1.0207e-01, -1.8292e-01, -6.7874e-03, -1.0225e-01],\n",
      "          [ 8.6932e-02, -3.4721e-02,  1.6902e-01, -4.7617e-02, -9.4112e-02]]],\n",
      "\n",
      "\n",
      "        [[[-1.4955e-01,  1.1944e-01,  1.0455e-01,  1.6436e-03, -1.7642e-03],\n",
      "          [ 1.0170e-01,  1.2506e-01,  5.3272e-02,  6.5277e-03,  1.1591e-01],\n",
      "          [-1.1163e-01, -1.1919e-01,  4.5446e-02, -3.5261e-02,  1.6009e-01],\n",
      "          [-1.2274e-01, -1.4260e-01, -1.9608e-02, -4.3874e-02,  8.6225e-02],\n",
      "          [-1.3772e-01, -2.2007e-01, -2.3851e-01, -3.6555e-02, -1.3312e-01]],\n",
      "\n",
      "         [[-2.2508e-01,  7.9431e-02,  6.0494e-02, -2.0137e-01,  2.9822e-01],\n",
      "          [ 2.0707e-01, -2.0882e-02, -8.2691e-03,  8.6859e-02,  1.2942e-01],\n",
      "          [-3.7839e-03,  1.7185e-01,  3.9874e-01, -1.8413e-01,  1.1976e-01],\n",
      "          [ 1.1177e-02, -4.9362e-02,  1.5073e-01,  9.7630e-02,  2.4031e-02],\n",
      "          [-5.3947e-03,  1.3601e-01, -1.1640e-01,  1.1850e-01,  4.5068e-02]],\n",
      "\n",
      "         [[ 7.3407e-02,  1.4055e-01, -1.0349e-01,  1.4492e-01, -5.0765e-02],\n",
      "          [-3.7343e-02,  3.6506e-02,  1.6190e-01, -8.0811e-02,  1.1694e-01],\n",
      "          [ 2.2562e-01, -1.0116e-01,  1.0918e-01,  2.9669e-02,  1.5493e-01],\n",
      "          [ 4.8048e-02,  1.4861e-01, -3.4116e-02,  1.1976e-01, -6.3265e-02],\n",
      "          [ 1.4842e-01,  4.3767e-01, -3.3041e-01, -3.9497e-02,  2.1339e-01]],\n",
      "\n",
      "         ...,\n",
      "\n",
      "         [[ 2.6304e-02,  7.4625e-03, -1.6363e-01,  2.0289e-01, -3.0779e-01],\n",
      "          [-1.4660e-01, -5.6557e-03, -1.9099e-01,  3.0550e-01, -3.7791e-01],\n",
      "          [-3.4574e-02, -4.3771e-02,  6.2667e-03, -1.0476e-01, -1.1934e-01],\n",
      "          [ 5.2077e-02, -2.4365e-03,  6.4992e-03, -4.7360e-02,  1.7844e-01],\n",
      "          [ 3.6819e-02,  1.9825e-01,  1.7835e-01,  1.6284e-01,  1.8314e-01]],\n",
      "\n",
      "         [[ 5.4493e-02,  1.4119e-01,  2.2236e-01, -1.2902e-01, -2.7297e-02],\n",
      "          [ 2.7965e-01,  2.6297e-02,  9.5846e-02, -1.1026e-01, -2.8099e-01],\n",
      "          [ 3.7233e-01,  2.8946e-01,  6.9989e-02,  9.0713e-02, -6.9472e-02],\n",
      "          [ 3.2959e-01,  2.1141e-01,  2.1250e-01,  4.8777e-02,  3.9653e-02],\n",
      "          [ 4.1072e-01,  5.2301e-02,  3.6124e-02,  2.8858e-01,  8.2122e-02]],\n",
      "\n",
      "         [[-1.6482e-01, -4.4946e-01, -5.5934e-01, -3.2794e-01, -6.9085e-01],\n",
      "          [-1.2263e-01, -5.6358e-02, -3.1063e-01, -2.9895e-01, -6.2582e-02],\n",
      "          [ 3.0813e-02, -6.5764e-02,  1.7862e-01, -9.7433e-02,  6.1924e-02],\n",
      "          [ 3.3985e-02,  9.3623e-02,  1.1461e-01, -4.1809e-02,  1.0510e-01],\n",
      "          [-6.0218e-02,  1.3948e-01,  4.4104e-02,  1.5585e-01,  4.6788e-03]]],\n",
      "\n",
      "\n",
      "        ...,\n",
      "\n",
      "\n",
      "        [[[ 2.3301e-01, -7.2193e-02, -2.1734e-01, -3.3523e-01,  1.8256e-01],\n",
      "          [ 3.9730e-01, -1.4532e-01, -2.1121e-01, -3.5631e-01,  3.4330e-01],\n",
      "          [-2.5365e-02, -4.5632e-01,  1.0381e-01, -1.3053e-01,  4.1985e-02],\n",
      "          [-1.4167e-01,  9.6575e-02,  1.8165e-01, -3.1811e-01, -2.0770e-01],\n",
      "          [ 2.3889e-01, -3.3830e-02, -1.5220e-01, -1.1149e-01, -9.0663e-02]],\n",
      "\n",
      "         [[ 2.7534e-01,  4.5804e-01,  1.8811e-01,  9.6882e-02,  1.9840e-01],\n",
      "          [ 2.4554e-01,  1.4782e-01,  9.2226e-02, -1.6136e-01,  7.6937e-02],\n",
      "          [ 1.5646e-01, -3.2152e-01,  6.5383e-02, -2.0206e-01,  5.1108e-02],\n",
      "          [-2.3620e-01, -1.0643e-01, -2.9084e-02,  1.3023e-02, -1.6520e-01],\n",
      "          [-2.9082e-01,  1.1320e-01,  9.8616e-02,  2.1023e-02,  2.5704e-01]],\n",
      "\n",
      "         [[ 1.7605e-01,  1.8846e-01, -5.3752e-02, -5.3054e-02,  3.9010e-01],\n",
      "          [-9.6530e-04, -1.7939e-02, -2.6816e-02,  3.5761e-02,  1.5214e-01],\n",
      "          [-1.2181e-02, -8.1403e-02, -7.0853e-03, -1.6886e-01,  2.0132e-03],\n",
      "          [-1.5898e-01,  2.0848e-01,  5.5177e-02, -3.8075e-03, -2.0583e-03],\n",
      "          [ 2.7552e-01,  1.7795e-01, -2.8575e-02,  2.8300e-01,  9.1648e-02]],\n",
      "\n",
      "         ...,\n",
      "\n",
      "         [[ 1.8690e-01,  2.0158e-01,  1.7420e-01,  1.7795e-01,  1.9696e-01],\n",
      "          [ 2.3917e-01, -9.3479e-03,  3.1592e-01, -9.1690e-02,  1.3896e-01],\n",
      "          [ 1.7327e-01,  1.3835e-01,  3.3905e-01,  3.0436e-01,  8.7726e-02],\n",
      "          [ 3.6015e-01, -2.0818e-02, -1.0589e-01, -4.6127e-02,  1.5956e-01],\n",
      "          [ 1.9923e-01, -2.3714e-01, -1.5155e-01,  4.2926e-04, -1.8091e-02]],\n",
      "\n",
      "         [[-1.6954e-02,  2.3100e-01, -2.3759e-02,  2.1239e-01, -7.3848e-02],\n",
      "          [-4.8380e-02, -1.5598e-01,  2.8001e-02,  1.0204e-01, -1.4725e-01],\n",
      "          [ 8.6829e-02, -2.2990e-01,  8.4967e-02,  4.2511e-02,  4.8700e-03],\n",
      "          [-9.7398e-02, -9.5828e-02,  1.9053e-01, -2.8753e-02,  2.5497e-02],\n",
      "          [-1.2035e-01, -7.3235e-02,  6.0053e-02, -1.3234e-01, -1.1275e-01]],\n",
      "\n",
      "         [[-1.7047e-01, -1.8194e-01, -1.0996e-01, -3.8246e-01, -2.0721e-01],\n",
      "          [-2.0681e-01, -1.2157e-01,  1.5292e-01, -1.6439e-03, -8.3446e-02],\n",
      "          [-1.9638e-01,  2.9078e-01, -1.2099e-01,  1.6361e-01, -9.5211e-02],\n",
      "          [ 2.6302e-02, -1.6305e-02,  2.2495e-03,  1.4384e-01,  4.1058e-03],\n",
      "          [-9.0930e-02, -1.0925e-01, -2.5139e-01, -1.0104e-01, -1.6113e-01]]],\n",
      "\n",
      "\n",
      "        [[[-2.9390e-01, -1.4450e-01, -1.2650e-01,  1.1996e-01, -2.9543e-01],\n",
      "          [ 2.3057e-01,  7.5995e-02,  1.5571e-01,  1.0158e-01, -1.4198e-01],\n",
      "          [-8.5473e-02,  2.4085e-01,  8.7411e-02,  9.4191e-02, -2.2878e-01],\n",
      "          [ 6.6817e-02, -2.9261e-02,  1.6138e-01,  1.3645e-01, -1.0833e-01],\n",
      "          [-2.2529e-01, -7.2377e-03, -2.2040e-01,  1.0970e-01, -2.3224e-01]],\n",
      "\n",
      "         [[ 2.2262e-03,  1.7131e-02,  9.8270e-02, -2.9671e-01,  2.3704e-01],\n",
      "          [-1.7973e-01, -7.3956e-02,  3.9923e-02, -2.1612e-01, -3.3067e-01],\n",
      "          [-1.3379e-01,  7.3724e-02, -3.7319e-01,  2.5731e-02, -2.6055e-02],\n",
      "          [-7.8703e-02,  1.8326e-01,  3.1001e-01,  2.8963e-01,  1.6750e-01],\n",
      "          [-1.2125e-01,  3.1838e-01,  9.8234e-03,  3.4298e-01,  1.4099e-01]],\n",
      "\n",
      "         [[ 2.5615e-02, -1.8118e-01,  2.9936e-01, -8.5078e-02,  2.7720e-01],\n",
      "          [-8.3170e-02, -9.9572e-02, -1.0225e-01, -3.6845e-02, -2.4997e-01],\n",
      "          [ 5.5469e-03, -2.3045e-01, -1.5248e-01,  1.3343e-01, -3.5785e-01],\n",
      "          [ 9.2376e-02, -2.1875e-01,  1.0263e-02, -4.4528e-03, -4.2666e-02],\n",
      "          [-2.7113e-01, -5.4720e-02,  8.4424e-02, -1.4415e-01,  6.5388e-02]],\n",
      "\n",
      "         ...,\n",
      "\n",
      "         [[-3.3043e-01, -8.1155e-02, -2.3111e-01, -4.5178e-02, -1.1820e-01],\n",
      "          [ 1.6207e-01,  2.6581e-01, -5.8932e-02,  2.8567e-01,  3.4487e-01],\n",
      "          [ 2.3046e-02, -4.7088e-02, -2.2156e-02, -6.7826e-02,  9.6156e-02],\n",
      "          [ 7.5881e-02,  4.2109e-02,  1.3931e-02, -5.9505e-01, -1.7703e-01],\n",
      "          [ 2.1453e-01,  1.5512e-01, -1.4992e-01, -5.5259e-01,  4.9197e-02]],\n",
      "\n",
      "         [[-2.8587e-01,  1.5123e-01, -3.5708e-02, -1.0548e-01,  7.7160e-02],\n",
      "          [-8.6003e-04,  4.5350e-02, -3.0412e-02, -3.3880e-01,  2.8299e-01],\n",
      "          [-6.5553e-02, -2.9826e-01,  8.2393e-03, -2.3021e-01,  9.1371e-02],\n",
      "          [-1.0487e-01, -1.4446e-01,  3.8108e-01,  1.5187e-01, -7.6567e-02],\n",
      "          [-1.8173e-01,  7.3174e-02, -5.2743e-02,  2.6408e-01,  1.1643e-01]],\n",
      "\n",
      "         [[-9.8128e-02,  7.4879e-02, -1.8244e-02,  6.7334e-02,  4.3013e-01],\n",
      "          [ 1.1776e-01,  1.0618e-01,  2.0107e-01,  2.5247e-01,  1.2591e-01],\n",
      "          [-2.1964e-01, -1.0278e-01,  1.5583e-01,  1.4990e-01,  3.3897e-01],\n",
      "          [ 3.2406e-02, -2.2183e-01,  1.7717e-01,  7.8574e-02,  4.8789e-01],\n",
      "          [ 6.4562e-02, -3.9682e-03, -8.4900e-02,  2.9671e-02,  1.7708e-01]]],\n",
      "\n",
      "\n",
      "        [[[-2.3577e-01, -1.0772e-01,  1.3897e-01,  1.8404e-01, -3.3862e-01],\n",
      "          [-5.4245e-02, -1.3186e-01,  9.8336e-02, -3.3193e-01,  2.7457e-01],\n",
      "          [ 1.4746e-01, -1.1802e-01, -4.2819e-01, -1.0267e-01,  2.9135e-01],\n",
      "          [ 1.1845e-01, -5.1559e-02,  5.9968e-02,  1.7204e-01,  1.5295e-01],\n",
      "          [ 1.6002e-01,  1.8207e-01,  7.9278e-02, -1.0397e-01,  3.9088e-01]],\n",
      "\n",
      "         [[-1.0058e-01,  1.7337e-02,  5.6673e-02,  2.1897e-03,  4.5193e-02],\n",
      "          [-2.7118e-01, -9.6106e-02,  8.8167e-02, -2.3064e-01,  7.1553e-03],\n",
      "          [-3.6932e-02,  5.0760e-03, -1.4859e-01, -1.0419e-01, -5.4983e-02],\n",
      "          [ 7.1137e-02,  1.5494e-01, -7.0901e-02, -7.5765e-02,  8.5641e-02],\n",
      "          [ 1.0590e-01,  8.0841e-02, -5.7008e-02, -1.2279e-01, -1.2592e-01]],\n",
      "\n",
      "         [[ 4.0609e-01,  4.3962e-01,  3.7347e-02,  5.1841e-01,  4.6024e-01],\n",
      "          [ 4.3501e-01,  2.4211e-01,  3.9593e-01,  1.2343e-01,  8.5282e-02],\n",
      "          [ 6.4129e-02,  2.9472e-01, -3.3696e-02, -1.2261e-01, -2.5700e-01],\n",
      "          [-8.0777e-02,  5.6831e-02, -3.4092e-01, -5.9079e-01, -3.2619e-01],\n",
      "          [-2.9083e-01, -1.3045e-01, -4.4679e-01, -3.7936e-01, -2.8784e-01]],\n",
      "\n",
      "         ...,\n",
      "\n",
      "         [[ 1.5506e-02, -7.8997e-02, -3.2237e-02, -5.3727e-02,  1.5897e-01],\n",
      "          [ 2.0799e-01,  1.2448e-02,  5.2292e-03, -1.0937e-01,  8.6694e-03],\n",
      "          [ 2.4749e-01, -1.2762e-01,  3.9692e-02,  2.0908e-01,  2.1206e-03],\n",
      "          [ 1.6428e-01,  1.6127e-01,  1.8520e-01,  2.4552e-02, -2.1946e-01],\n",
      "          [ 2.2459e-01,  2.4556e-01, -6.5714e-03,  3.4641e-01,  2.3143e-02]],\n",
      "\n",
      "         [[ 1.1480e-01,  1.3369e-01, -2.1943e-01,  2.1131e-01,  2.8663e-02],\n",
      "          [-1.4491e-01,  1.2055e-01, -5.0483e-02, -7.8071e-02,  1.0740e-02],\n",
      "          [ 1.3670e-01, -1.4654e-01, -2.1653e-01,  1.0596e-01,  5.4102e-02],\n",
      "          [-1.5441e-01, -4.2942e-01, -3.5434e-01, -3.5212e-02, -3.9027e-02],\n",
      "          [-4.9953e-01,  6.8463e-02,  8.4700e-02, -1.3439e-01,  1.9698e-01]],\n",
      "\n",
      "         [[ 7.6001e-02,  7.7597e-02,  1.8107e-01,  2.0181e-01,  1.7205e-01],\n",
      "          [ 1.5863e-01, -1.7579e-01,  2.2519e-01,  1.4404e-01,  2.3792e-01],\n",
      "          [ 1.4244e-03,  1.1591e-03, -4.6768e-02, -1.7136e-01, -7.4471e-02],\n",
      "          [ 1.0486e-02,  1.1412e-02, -6.5574e-01, -7.3183e-01, -7.1573e-01],\n",
      "          [-5.5539e-01, -2.7206e-01, -3.6917e-01, -4.4786e-01, -6.6541e-01]]]],\n",
      "       device='cuda:0')\n",
      "conv2.bias \t tensor([ 0.1044,  0.4291,  0.4243,  0.3710,  0.3328,  0.7548,  0.1972,  0.2234,\n",
      "        -0.0868,  0.0823], device='cuda:0')\n",
      "layer3.weight \t tensor([[ 0.1898,  0.0763, -0.0540,  ..., -0.0437, -0.1143,  0.0368],\n",
      "        [ 0.1963,  0.2353,  0.1981,  ..., -0.2242, -0.0919, -0.0153],\n",
      "        [ 0.1225, -0.4292, -0.1366,  ...,  0.0911,  0.2496,  0.5048],\n",
      "        ...,\n",
      "        [ 0.0908,  0.0230, -0.0706,  ...,  0.2777,  0.3913,  0.7296],\n",
      "        [ 0.1612, -0.1447, -0.1145,  ..., -0.0065, -0.2034, -0.1068],\n",
      "        [-0.2357,  0.2172, -0.0283,  ...,  0.0406,  0.0900,  0.1978]],\n",
      "       device='cuda:0')\n",
      "layer3.bias \t tensor([ 0.3051,  0.1840, -0.1583, -0.0026,  0.4172,  0.5942,  0.6589,  0.2942,\n",
      "         0.0949, -0.0578,  0.2884,  0.3511, -0.0099, -0.0187, -0.0042,  0.6811,\n",
      "         0.7833, -0.6319,  0.8987, -0.5509], device='cuda:0')\n",
      "layer4.weight \t tensor([[ 0.1661, -0.0413, -0.0821,  0.1413,  0.1376,  0.2540,  0.1272,  0.2036,\n",
      "         -0.2805, -0.1449,  0.3177, -0.0751, -0.1803,  0.6331, -0.2886, -0.2690,\n",
      "         -0.0342,  0.0092,  0.0969,  0.0513],\n",
      "        [-0.0330, -0.0415,  0.2022,  0.0470, -0.0944, -0.1017,  0.5090,  0.1928,\n",
      "         -0.0496,  0.3155,  0.1727,  0.1755,  0.6214, -0.4988,  0.4990,  0.0099,\n",
      "         -0.0249, -0.3502,  0.1025,  0.4216],\n",
      "        [ 0.2009,  0.3566, -0.0084, -0.1558,  0.0356, -0.1292,  0.0819,  0.5098,\n",
      "         -0.0468, -0.1097, -0.0859, -0.1073, -0.2037,  0.1119, -0.0108, -0.2187,\n",
      "          0.3547, -0.3734,  0.4482, -0.0150]], device='cuda:0')\n",
      "layer4.bias \t tensor([ 0.0021,  0.0667, -0.1885], device='cuda:0')\n"
     ]
    }
   ],
   "source": [
    "for param_tensor in Pretext_model.state_dict():\n",
    "  print(param_tensor, \"\\t\", Pretext_model.state_dict()[param_tensor])"
   ]
  },
  {
   "cell_type": "markdown",
   "metadata": {
    "id": "GBUQW-bmjJoU"
   },
   "source": [
    "## Baseline Model Creation"
   ]
  },
  {
   "cell_type": "code",
   "execution_count": 27,
   "metadata": {
    "id": "DCicKjFs2L_x"
   },
   "outputs": [],
   "source": [
    "class Baseline(nn.Module):\n",
    "    def __init__(self):\n",
    "        super(Baseline, self).__init__()\n",
    "        \n",
    "        self.conv1 = nn.Conv2d(3, 10,  kernel_size=5, stride=1)\n",
    "        torch.nn.init.kaiming_normal_(self.conv1.weight)\n",
    "        self.pool1 = nn.MaxPool2d(2, 2)\n",
    "        self.conv2 = nn.Conv2d(10, 10, kernel_size=5, stride=1)\n",
    "        torch.nn.init.kaiming_normal_(self.conv2.weight)\n",
    "        self.pool2 = nn.MaxPool2d(2, stride=2)\n",
    "        self.layer3 = torch.nn.Linear(5*5*10, 20)\n",
    "        torch.nn.init.kaiming_normal_(self.layer3.weight)\n",
    "        self.layer4=torch.nn.Linear(20, 10)\n",
    "        torch.nn.init.kaiming_normal_(self.layer4.weight)\n",
    "        self.act=nn.ReLU()\n",
    "\n",
    "    def forward(self, x):\n",
    "        out1 = self.act(self.conv1(x))\n",
    "        out2 = self.pool1(out1)\n",
    "        out3 = self.act(self.conv2(out2))\n",
    "        out4 = self.pool2(out3)\n",
    "        out5 = out4.reshape(out4.size(0), out4.size(1)*out4.size(2)*out4.size(3))\n",
    "        out6 = self.act(self.layer3(out5))\n",
    "        out7 = self.layer4(out6)\n",
    "        return out7"
   ]
  },
  {
   "cell_type": "markdown",
   "metadata": {
    "id": "mMz-WrOvM4FP"
   },
   "source": [
    "## Standardizing and Normalizing the baseline train data "
   ]
  },
  {
   "cell_type": "code",
   "execution_count": 28,
   "metadata": {
    "id": "-De92Dg5-xmj"
   },
   "outputs": [],
   "source": [
    "train_X_baseline_final= data_manipulation_pretext(trainX_baseline)\n",
    "train_Y_baseline_final= trainy_baseline.flatten()"
   ]
  },
  {
   "cell_type": "markdown",
   "metadata": {
    "id": "uQBJouN8NGqX"
   },
   "source": [
    "## Image before standardizing for baseline train data"
   ]
  },
  {
   "cell_type": "code",
   "execution_count": 29,
   "metadata": {
    "colab": {
     "base_uri": "https://localhost:8080/",
     "height": 283
    },
    "id": "QYiGR_lBAn29",
    "outputId": "6683bdb4-1854-4890-ce12-7c021af64562"
   },
   "outputs": [
    {
     "data": {
      "text/plain": [
       "<matplotlib.image.AxesImage at 0x7f7baa095208>"
      ]
     },
     "execution_count": 29,
     "metadata": {
      "tags": []
     },
     "output_type": "execute_result"
    },
    {
     "data": {
      "image/png": "[encoded data removed]",
      "text/plain": [
       "<Figure size 432x288 with 1 Axes>"
      ]
     },
     "metadata": {
      "needs_background": "light",
      "tags": []
     },
     "output_type": "display_data"
    }
   ],
   "source": [
    "plt.imshow(trainX_baseline[8])"
   ]
  },
  {
   "cell_type": "markdown",
   "metadata": {
    "id": "oI2D3uInNN1M"
   },
   "source": [
    "## Image after standardizing for baseline train data"
   ]
  },
  {
   "cell_type": "code",
   "execution_count": 30,
   "metadata": {
    "colab": {
     "base_uri": "https://localhost:8080/",
     "height": 301
    },
    "id": "gWPcx0T2Arum",
    "outputId": "167d0fd8-8367-4837-ea02-e7a604d44bbc"
   },
   "outputs": [
    {
     "name": "stderr",
     "output_type": "stream",
     "text": [
      "Clipping input data to the valid range for imshow with RGB data ([0..1] for floats or [0..255] for integers).\n"
     ]
    },
    {
     "data": {
      "text/plain": [
       "<matplotlib.image.AxesImage at 0x7f7baa07a0f0>"
      ]
     },
     "execution_count": 30,
     "metadata": {
      "tags": []
     },
     "output_type": "execute_result"
    },
    {
     "data": {
      "image/png": "[encoded data removed]",
      "text/plain": [
       "<Figure size 432x288 with 1 Axes>"
      ]
     },
     "metadata": {
      "needs_background": "light",
      "tags": []
     },
     "output_type": "display_data"
    }
   ],
   "source": [
    "plt.imshow(np.transpose(train_X_baseline_final[8], (1,2,0)))"
   ]
  },
  {
   "cell_type": "markdown",
   "metadata": {
    "id": "CJoA9_m5NZll"
   },
   "source": [
    "## Standardizing the validation dataset and creating the dataset that the model will be validated on"
   ]
  },
  {
   "cell_type": "code",
   "execution_count": 31,
   "metadata": {
    "id": "CkwGzSRMABPF"
   },
   "outputs": [],
   "source": [
    "test_X_baseline_final=data_manipulation_pretext(testX_valid)\n",
    "test_Y_baseline_final=testy_valid.flatten()"
   ]
  },
  {
   "cell_type": "markdown",
   "metadata": {
    "id": "2wNwRgkINR3_"
   },
   "source": [
    "## Image before standardizing for baseline test data"
   ]
  },
  {
   "cell_type": "code",
   "execution_count": 32,
   "metadata": {
    "colab": {
     "base_uri": "https://localhost:8080/",
     "height": 283
    },
    "id": "sfJ3Oc0AA-9z",
    "outputId": "3aeaf71b-10e2-41de-bc7a-596230f09352"
   },
   "outputs": [
    {
     "data": {
      "text/plain": [
       "<matplotlib.image.AxesImage at 0x7f7ba708bd30>"
      ]
     },
     "execution_count": 32,
     "metadata": {
      "tags": []
     },
     "output_type": "execute_result"
    },
    {
     "data": {
      "image/png": "[encoded data removed]",
      "text/plain": [
       "<Figure size 432x288 with 1 Axes>"
      ]
     },
     "metadata": {
      "needs_background": "light",
      "tags": []
     },
     "output_type": "display_data"
    }
   ],
   "source": [
    "plt.imshow(testX_valid[99])"
   ]
  },
  {
   "cell_type": "markdown",
   "metadata": {
    "id": "ntNk1XYFNWR9"
   },
   "source": [
    "## Image after standardizing for baseline train data"
   ]
  },
  {
   "cell_type": "code",
   "execution_count": 33,
   "metadata": {
    "colab": {
     "base_uri": "https://localhost:8080/",
     "height": 301
    },
    "id": "ERIemuUqBEl5",
    "outputId": "dec6af75-bb0f-479c-b9d6-c230f6878b03"
   },
   "outputs": [
    {
     "name": "stderr",
     "output_type": "stream",
     "text": [
      "Clipping input data to the valid range for imshow with RGB data ([0..1] for floats or [0..255] for integers).\n"
     ]
    },
    {
     "data": {
      "text/plain": [
       "<matplotlib.image.AxesImage at 0x7f7ba706ec18>"
      ]
     },
     "execution_count": 33,
     "metadata": {
      "tags": []
     },
     "output_type": "execute_result"
    },
    {
     "data": {
      "image/png": "[encoded data removed]",
      "text/plain": [
       "<Figure size 432x288 with 1 Axes>"
      ]
     },
     "metadata": {
      "needs_background": "light",
      "tags": []
     },
     "output_type": "display_data"
    }
   ],
   "source": [
    "plt.imshow(np.transpose(test_X_baseline_final[99], (1,2,0)))"
   ]
  },
  {
   "cell_type": "markdown",
   "metadata": {
    "id": "18A5gopnNnna"
   },
   "source": [
    "## Initializing the Baseline_Model"
   ]
  },
  {
   "cell_type": "code",
   "execution_count": 34,
   "metadata": {
    "id": "R4VSsidJCTpE"
   },
   "outputs": [],
   "source": [
    "Baseline_model=Baseline().cuda()"
   ]
  },
  {
   "cell_type": "markdown",
   "metadata": {
    "id": "kezgvdJEN2eV"
   },
   "source": [
    "## Creating Baseline Function"
   ]
  },
  {
   "cell_type": "markdown",
   "metadata": {
    "id": "Z7wdkUylOC3_"
   },
   "source": [
    "We have used a batch size of 500 as the training dataset contains 500 samples only"
   ]
  },
  {
   "cell_type": "code",
   "execution_count": 35,
   "metadata": {
    "id": "Fl16cpXu2bgk"
   },
   "outputs": [],
   "source": [
    "def function_for_cal_baseline(model,input,train,validation_X,validation_Y): ## model name, input train X, input train Y, validation X and validation Y \n",
    "  \n",
    "  validation_X1=torch.FloatTensor(validation_X).cuda()\n",
    "  validation_Y1=torch.tensor(validation_Y).type(torch.LongTensor).cuda()\n",
    "  input1= torch.FloatTensor(input).cuda()\n",
    "  train1=torch.tensor(train).type(torch.LongTensor).cuda()\n",
    "\n",
    "  criterion = torch.nn.CrossEntropyLoss()\n",
    "  optimizer = torch.optim.Adam(model.parameters(),lr=0.001)\n",
    "  errt=[0 for i in range(10000)]\n",
    "  validation_accuracy=[]\n",
    "  test_accuracy=[]\n",
    "  for epoch in range(10000):\n",
    "      running_loss=0\n",
    "      for j in range(int(len(input1)/500)):\n",
    "          # Move tensors to the configured device\n",
    "      \n",
    "          images= input1[j*500:(j+1)*500]\n",
    "          labels= train1[j*500:(j+1)*500]\n",
    "          \n",
    "          # Forward pass\n",
    "          outputs = model(images.cuda()).cuda()\n",
    "          \n",
    "          loss = criterion(outputs.cuda(), labels.cuda())\n",
    "          \n",
    "          # Backward and optimize\n",
    "          optimizer.zero_grad()\n",
    "          loss.backward()\n",
    "          optimizer.step()\n",
    "          running_loss+=loss.item()\n",
    "      \n",
    "      errt[epoch]=running_loss*(500/len(input1))\n",
    "\n",
    "      valida= accuracy(model,validation_X1,validation_Y1)\n",
    "      # testa=accuracy(net,testX_set,testY_set)\n",
    "      validation_accuracy.append(valida)\n",
    "    \n",
    "      if epoch%100==0:\n",
    "        print(\"Epoch:\", epoch,\"Loss:\",running_loss*(500/len(input1)),\"validation accuracy:\",valida)\n",
    "\n",
    "  return validation_accuracy,errt"
   ]
  },
  {
   "cell_type": "code",
   "execution_count": null,
   "metadata": {
    "id": "H4P0KBskDv3f"
   },
   "outputs": [],
   "source": [
    "Baseline_model_run= function_for_cal_baseline(Baseline_model,train_X_baseline_final,train_Y_baseline_final,test_X_baseline_final,test_Y_baseline_final)"
   ]
  },
  {
   "cell_type": "markdown",
   "metadata": {
    "id": "iigrXhcSPZg8"
   },
   "source": [
    "## Creating Finetuning Model"
   ]
  },
  {
   "cell_type": "code",
   "execution_count": 37,
   "metadata": {
    "id": "67dxWwaaKh9P"
   },
   "outputs": [],
   "source": [
    "class Finetuning(nn.Module):\n",
    "    def __init__(self):\n",
    "        super(Finetuning, self).__init__()\n",
    "        \n",
    "        self.conv1 = nn.Conv2d(3, 10,  kernel_size=5, stride=1)\n",
    "        self.pool1 = nn.MaxPool2d(2, 2)\n",
    "        self.conv2 = nn.Conv2d(10, 10, kernel_size=5, stride=1)\n",
    "        self.pool2 = nn.MaxPool2d(2, stride=2)\n",
    "        self.layer3 = torch.nn.Linear(5*5*10, 20)\n",
    "        self.layer4=torch.nn.Linear(20, 10)\n",
    "        self.act=nn.ReLU()\n",
    "\n",
    "    def forward(self, x):\n",
    "        out1 = self.act(self.conv1(x))\n",
    "        out2 = self.pool1(out1)\n",
    "        out3 = self.act(self.conv2(out2))\n",
    "        out4 = self.pool2(out3)\n",
    "        out5 = out4.reshape(out4.size(0), out4.size(1)*out4.size(2)*out4.size(3))\n",
    "        out6 = self.act(self.layer3(out5))\n",
    "        out7 = self.layer4(out6)\n",
    "        return out7"
   ]
  },
  {
   "cell_type": "code",
   "execution_count": 38,
   "metadata": {
    "id": "KoM7hgAkPnb7"
   },
   "outputs": [],
   "source": [
    "finetuning_model=Finetuning().cuda()"
   ]
  },
  {
   "cell_type": "markdown",
   "metadata": {
    "id": "IKAtOkBNPrdF"
   },
   "source": [
    "##  Transferring the weights from Pretext Model to  Baseline Model"
   ]
  },
  {
   "cell_type": "code",
   "execution_count": 40,
   "metadata": {
    "id": "Eya_ROdIsdgm"
   },
   "outputs": [],
   "source": [
    "pretext_model_assigned=Pretext_model.state_dict()\n",
    "pretext_model_assigned[\"layer4.weight\"]=torch.nn.init.kaiming_normal_(torch.empty(10,20))\n",
    "pretext_model_assigned[\"layer4.bias\"]=torch.zeros(10)"
   ]
  },
  {
   "cell_type": "code",
   "execution_count": 41,
   "metadata": {
    "colab": {
     "base_uri": "https://localhost:8080/",
     "height": 34
    },
    "id": "Pli4UbOtxoxv",
    "outputId": "e7f85aec-136d-4788-8f1f-81b79436161b"
   },
   "outputs": [
    {
     "data": {
      "text/plain": [
       "<All keys matched successfully>"
      ]
     },
     "execution_count": 41,
     "metadata": {
      "tags": []
     },
     "output_type": "execute_result"
    }
   ],
   "source": [
    "finetuning_model.load_state_dict(pretext_model_assigned)"
   ]
  },
  {
   "cell_type": "markdown",
   "metadata": {
    "id": "lhAWSK_-QHtU"
   },
   "source": [
    "## FineTuning Model Calculation"
   ]
  },
  {
   "cell_type": "markdown",
   "metadata": {
    "id": "wVfwRT8MQOmx"
   },
   "source": [
    "We have used a batch size of 500 as the training samples are 500 and different learning rate for different layers. we have used 1e-5 as learning for all the layers except the last layer where we have used a learning rate of 1e-3"
   ]
  },
  {
   "cell_type": "code",
   "execution_count": 42,
   "metadata": {
    "id": "hGnS_Nj9Qxkk"
   },
   "outputs": [],
   "source": [
    "def function_for_cal_finetuning(model,input,train,validation_X,validation_Y):\n",
    "  \n",
    "  validation_X1=torch.FloatTensor(validation_X).cuda()\n",
    "  validation_Y1=torch.tensor(validation_Y).type(torch.LongTensor).cuda()\n",
    "  input1= torch.FloatTensor(input).cuda()\n",
    "  train1=torch.tensor(train).type(torch.LongTensor).cuda()\n",
    "\n",
    "  criterion = torch.nn.CrossEntropyLoss()\n",
    "  optimizer  = torch.optim.Adam(\n",
    "    [\n",
    "        {\"params\": model.conv1.parameters(), \"lr\": 1e-5},\n",
    "        {\"params\": model.conv2.parameters(),\"lr\": 1e-5},\n",
    "        {\"params\": model.layer3.parameters(), \"lr\": 1e-5},\n",
    "        {\"params\": model.layer4.parameters(), \"lr\": 0.001}\n",
    "\n",
    "    ]\n",
    ")\n",
    "  errt=[0 for i in range(10000)]\n",
    "  validation_accuracy=[]\n",
    "  test_accuracy=[]\n",
    "  for epoch in range(10000):\n",
    "      running_loss=0\n",
    "      for j in range(int(len(input1)/500)):\n",
    "          # Move tensors to the configured device\n",
    "      \n",
    "          images= input1[j*500:(j+1)*500]\n",
    "          labels= train1[j*500:(j+1)*500]\n",
    "          \n",
    "          # Forward pass\n",
    "          outputs = model(images.cuda()).cuda()\n",
    "          \n",
    "          loss = criterion(outputs.cuda(), labels.cuda())\n",
    "          \n",
    "          # Backward and optimize\n",
    "          optimizer.zero_grad()\n",
    "          loss.backward()\n",
    "          optimizer.step()\n",
    "          running_loss+=loss.item()\n",
    "      \n",
    "      errt[epoch]=running_loss*(500/len(input1))\n",
    "\n",
    "      valida= accuracy(model,validation_X1,validation_Y1)\n",
    "      # testa=accuracy(net,testX_set,testY_set)\n",
    "      validation_accuracy.append(valida)\n",
    "    \n",
    "      if epoch%100==0:\n",
    "        print(\"Epoch:\", epoch,\"Loss:\",running_loss*(500/len(input1)),\"validation accuracy:\",valida)\n",
    "\n",
    "  return validation_accuracy,errt"
   ]
  },
  {
   "cell_type": "code",
   "execution_count": null,
   "metadata": {
    "id": "U-q7FS3lSlxL"
   },
   "outputs": [],
   "source": [
    "Finetuning_model_run= function_for_cal_finetuning(finetuning_model,train_X_baseline_final,train_Y_baseline_final,test_X_baseline_final,test_Y_baseline_final)"
   ]
  },
  {
   "cell_type": "code",
   "execution_count": 44,
   "metadata": {
    "colab": {
     "base_uri": "https://localhost:8080/",
     "height": 606
    },
    "id": "-F4G5v-wT-38",
    "outputId": "181bb1d7-3ec3-46f5-b28f-254784c39b56"
   },
   "outputs": [
    {
     "data": {
      "image/png": "[encoded data removed]",
      "text/plain": [
       "<Figure size 1440x720 with 1 Axes>"
      ]
     },
     "metadata": {
      "needs_background": "light",
      "tags": []
     },
     "output_type": "display_data"
    }
   ],
   "source": [
    "plt.figure(figsize=(20,10))\n",
    "plt.plot(Baseline_model_run[0],label=\"Validation_Accuracy_Baseline\")\n",
    "plt.plot(Finetuning_model_run[0],label=\"Validation_Accuracy_Finetuning\")\n",
    "plt.legend()\n",
    "plt.title('validation_accuracy')\n",
    "plt.show()"
   ]
  }
 ],
 "metadata": {
  "accelerator": "GPU",
  "colab": {
   "collapsed_sections": [
    "rR_WMRCZMnRt"
   ],
   "name": "Assignment2_Problem4.ipynb",
   "provenance": [],
   "toc_visible": true
  },
  "kernelspec": {
   "display_name": "Python 3",
   "language": "python",
   "name": "python3"
  },
  "language_info": {
   "codemirror_mode": {
    "name": "ipython",
    "version": 3
   },
   "file_extension": ".py",
   "mimetype": "text/x-python",
   "name": "python",
   "nbconvert_exporter": "python",
   "pygments_lexer": "ipython3",
   "version": "3.7.4"
  }
 },
 "nbformat": 4,
 "nbformat_minor": 4
}
