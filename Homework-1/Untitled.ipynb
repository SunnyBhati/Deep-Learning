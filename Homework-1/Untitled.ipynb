{
 "cells": [
  {
   "cell_type": "code",
   "execution_count": 1,
   "metadata": {},
   "outputs": [],
   "source": [
    "import sys\n",
    "\n",
    "\n"
   ]
  },
  {
   "cell_type": "code",
   "execution_count": 10,
   "metadata": {},
   "outputs": [],
   "source": [
    "test_data=[8,8,8,8,8,1,5,5,4,0,3,3,3,3]\n",
    "\n",
    "def func(test_data):\n",
    "    c=0\n",
    "    a=0\n",
    "    \n",
    "    for i in range (1,len(test_data)):\n",
    "        \n",
    "        if test_data[i-1]==test_data[i]:\n",
    "            a=a+1\n",
    "            c=max(a,c)\n",
    "            if a==c :\n",
    "                starting_index= i-1\n",
    "        else:\n",
    "            a=1\n",
    "            \n",
    "    return c\n",
    "        \n",
    "        \n",
    "        "
   ]
  },
  {
   "cell_type": "code",
   "execution_count": 11,
   "metadata": {},
   "outputs": [
    {
     "data": {
      "text/plain": [
       "4"
      ]
     },
     "execution_count": 11,
     "metadata": {},
     "output_type": "execute_result"
    }
   ],
   "source": [
    "func(test_data)"
   ]
  },
  {
   "cell_type": "code",
   "execution_count": 12,
   "metadata": {},
   "outputs": [],
   "source": [
    "test_data=[[3, 0, 8, 4],\n",
    "           [2, 4, 5, 7],\n",
    "           [9, 2, 6, 3], \n",
    "           [0, 3, 1, 0]]"
   ]
  },
  {
   "cell_type": "code",
   "execution_count": 16,
   "metadata": {},
   "outputs": [],
   "source": [
    "a_left_right=[]\n",
    "for i in test_data:\n",
    "    a_left_right.append(max(i))\n",
    "    "
   ]
  },
  {
   "cell_type": "code",
   "execution_count": 29,
   "metadata": {},
   "outputs": [
    {
     "name": "stdout",
     "output_type": "stream",
     "text": [
      "[8, 7, 9, 3]\n"
     ]
    }
   ],
   "source": [
    "print(a_left_right)\n",
    "a_up_down=[9,4,8,7]"
   ]
  },
  {
   "cell_type": "code",
   "execution_count": 36,
   "metadata": {},
   "outputs": [],
   "source": [
    "for i in range (len(test_data)):\n",
    "    \n",
    "    for j in range(len(test_data[0])):\n",
    "        \n",
    "        if test_data[i][j]!= a_up_down[j] or test_data[i][j]!= a_left_right[i]:\n",
    "        \n",
    "            test_data[i][j]= min(a_left_right[i],a_up_down[j])\n",
    "            \n",
    "            \n",
    "\n",
    "    \n",
    "    \n",
    "    \n",
    "  \n",
    "        \n",
    "        "
   ]
  },
  {
   "cell_type": "code",
   "execution_count": 37,
   "metadata": {},
   "outputs": [
    {
     "data": {
      "text/plain": [
       "[[8, 4, 8, 7], [7, 4, 7, 7], [9, 4, 8, 7], [3, 3, 3, 3]]"
      ]
     },
     "execution_count": 37,
     "metadata": {},
     "output_type": "execute_result"
    }
   ],
   "source": [
    "test_data"
   ]
  },
  {
   "cell_type": "code",
   "execution_count": null,
   "metadata": {},
   "outputs": [],
   "source": []
  }
 ],
 "metadata": {
  "kernelspec": {
   "display_name": "Python 3",
   "language": "python",
   "name": "python3"
  },
  "language_info": {
   "codemirror_mode": {
    "name": "ipython",
    "version": 3
   },
   "file_extension": ".py",
   "mimetype": "text/x-python",
   "name": "python",
   "nbconvert_exporter": "python",
   "pygments_lexer": "ipython3",
   "version": "3.7.4"
  }
 },
 "nbformat": 4,
 "nbformat_minor": 4
}
