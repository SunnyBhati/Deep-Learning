{
  "nbformat": 4,
  "nbformat_minor": 0,
  "metadata": {
    "accelerator": "GPU",
    "colab": {
      "name": "Assignment3_Problem123 (1).ipynb",
      "provenance": [],
      "collapsed_sections": [],
      "machine_shape": "hm"
    },
    "kernelspec": {
      "display_name": "Python 3",
      "name": "python3"
    }
  },
  "cells": [
    {
      "cell_type": "markdown",
      "metadata": {
        "id": "cfs9x27UbyxH"
      },
      "source": [
        "## Problem 1"
      ]
    },
    {
      "cell_type": "code",
      "metadata": {
        "id": "8IcB0c-n9ePD"
      },
      "source": [
        "import torch \n",
        "import torchvision\n",
        "from torchvision import datasets\n",
        "import numpy as np\n",
        "import time\n",
        "import numpy\n",
        "import matplotlib.pyplot as plt\n",
        "import torch.nn as nn\n",
        "from torchvision.datasets import MNIST\n",
        "\n",
        "device = torch.device('cuda' if torch.cuda.is_available() else 'cpu')"
      ],
      "execution_count": null,
      "outputs": []
    },
    {
      "cell_type": "code",
      "metadata": {
        "id": "ZmJ-1LhFEU2t"
      },
      "source": [
        "class MNIST_GPU(MNIST):\n",
        "  def __init__(self, *args, **kwargs):\n",
        "    super(MNIST_GPU, self).__init__(*args, **kwargs)\n",
        "\n",
        "    # Convert to tensor and send to GPU\n",
        "    self.data = self.data.to(device)\n",
        "    self.targets = self.targets.to(device)\n",
        "\n",
        "    # # Scale the data to [0,1]\n",
        "    self.data = self.data.unsqueeze(1).float().div(255)\n",
        "\n",
        "    # # Normalize the data\n",
        "    # self.data = self.data.sub_(0.1307).div_(0.3081)\n",
        "\n",
        "    # # Flatten the dataset\n",
        "    # self.data = torch.flatten(self.data, 1,-1)\n",
        "\n",
        "  def __getitem__(self, idx):\n",
        "    return self.data[idx], self.targets[idx]\n",
        "\n",
        "\n",
        "  def __len__(self):\n",
        "        return len(self.data)"
      ],
      "execution_count": null,
      "outputs": []
    },
    {
      "cell_type": "code",
      "metadata": {
        "id": "owPOITkcEXiM"
      },
      "source": [
        "mnist_train= MNIST_GPU(\"mnist\",\n",
        "      train=True,\n",
        "      download=True)\n",
        "\n",
        "mnist_test=MNIST_GPU(\"mnist\",\n",
        "      train=False,\n",
        "      download=True,\n",
        "      )"
      ],
      "execution_count": null,
      "outputs": []
    },
    {
      "cell_type": "code",
      "metadata": {
        "id": "n6xkALbBEi9O"
      },
      "source": [
        "input_size = 784 ##input dimension\n",
        "hidden_size = [1024,1024,1024,1024,1024] ## hidden_layer configuration\n",
        "num_classes = 10\n",
        "num_epochs = 200 ##no.of episodes\n",
        "batch_size = 128\n",
        "\n",
        "train_loader1 = torch.utils.data.DataLoader(dataset=mnist_train, \n",
        "                                           batch_size=batch_size, \n",
        "                                           shuffle=True)\n",
        "\n",
        "test_loader1=torch.utils.data.DataLoader(dataset=mnist_test, \n",
        "                                         batch_size=10000,\n",
        "                                           shuffle=False)"
      ],
      "execution_count": null,
      "outputs": []
    },
    {
      "cell_type": "markdown",
      "metadata": {
        "id": "c_Y3ebWyb70T"
      },
      "source": [
        "## Defining Network"
      ]
    },
    {
      "cell_type": "code",
      "metadata": {
        "id": "VfuNcXzbE58a"
      },
      "source": [
        "class FiveLayer_NeuralNet_512_problem_3(nn.Module):\n",
        "    def __init__(self, input_size, hidden_size,num_classes,activation):\n",
        "        super(FiveLayer_NeuralNet_512_problem_3, self).__init__()\n",
        "        self.fc1 = nn.Linear(input_size, hidden_size[0])\n",
        "        \n",
        "        torch.nn.init.kaiming_normal_(self.fc1.weight)\n",
        "        torch.nn.init.zeros_(self.fc1.bias)\n",
        "\n",
        "        self.fc2 = nn.Linear(hidden_size[0], hidden_size[1]) \n",
        "        torch.nn.init.kaiming_normal_(self.fc2.weight)\n",
        "        torch.nn.init.zeros_(self.fc2.bias)\n",
        "\n",
        "\n",
        "        self.fc3 = nn.Linear(hidden_size[1], hidden_size[2]) \n",
        "        torch.nn.init.kaiming_normal_(self.fc3.weight)\n",
        "        torch.nn.init.zeros_(self.fc3.bias) \n",
        "\n",
        "        self.fc4 = nn.Linear(hidden_size[2], hidden_size[3])\n",
        "        torch.nn.init.kaiming_normal_(self.fc4.weight)\n",
        "        torch.nn.init.zeros_(self.fc4.bias) \n",
        "\n",
        "        self.fc5 = nn.Linear(hidden_size[3], hidden_size[4])  \n",
        "        torch.nn.init.kaiming_normal_(self.fc5.weight)\n",
        "        torch.nn.init.zeros_(self.fc5.bias) \n",
        "\n",
        "        self.fc6=  nn.Linear(hidden_size[4], num_classes)\n",
        "        torch.nn.init.kaiming_normal_(self.fc6.weight)\n",
        "        torch.nn.init.zeros_(self.fc6.bias) \n",
        "\n",
        "        if activation==\"relu\":\n",
        "          self.act= nn.ReLU()\n",
        "        if activation==\"sigmoid\":\n",
        "          self.act=nn.Sigmoid()\n",
        "        if activation==\"tanh\":\n",
        "          self.act=nn.Tanh()\n",
        "\n",
        "    \n",
        "    def forward(self, x):\n",
        "        x = x.reshape(-1, 28*28).cuda()\n",
        "        self.layer1 = self.act(self.fc1(x))\n",
        "        self.layer2 = self.act(self.fc2(self.layer1))\n",
        "        self.layer3 = self.act(self.fc3(self.layer2))\n",
        "        self.layer4 = self.act(self.fc4(self.layer3))\n",
        "        self.layer5 = self.act(self.fc5(self.layer4))\n",
        "        self.output = self.fc6( self.layer5)\n",
        "        return self.output"
      ],
      "execution_count": null,
      "outputs": []
    },
    {
      "cell_type": "code",
      "metadata": {
        "id": "nEqkGOJ5FMUs"
      },
      "source": [
        "def final_ouput(model,num_epochs,train_loader,test_loader,learning_rate):\n",
        "\n",
        "  criterion = nn.CrossEntropyLoss()\n",
        "  optimizer = torch.optim.Adam(model.parameters(),lr=learning_rate)  \n",
        "\n",
        "  total_step = len(train_loader)\n",
        "  errt=[0 for i in range(num_epochs)]\n",
        "  accuracy_list=[]\n",
        "  for epoch in range(num_epochs):\n",
        "      running_loss=0\n",
        "      model.train()\n",
        "      for i, (images, labels) in enumerate(train_loader):\n",
        "    \n",
        "          # Move tensors to the configured device\n",
        "      \n",
        "          # Forward pass\n",
        "          outputs = model(images).cuda()\n",
        "          loss = criterion(outputs.cuda(), labels.cuda())\n",
        "          \n",
        "          # Backward and optimize\n",
        "          optimizer.zero_grad()\n",
        "          loss.backward()\n",
        "          optimizer.step()\n",
        "          running_loss+=loss.item()\n",
        "      \n",
        "      errt[epoch]=running_loss/len(train_loader)\n",
        "      check=accuracy(test_loader,model)\n",
        "      accuracy_list.append(check)\n",
        "      if epoch%5==0:\n",
        "        print(\"Epoch:\", epoch,\"Loss:\",running_loss/len(train_loader),\"accuracy:\",check)\n",
        "  return accuracy_list\n"
      ],
      "execution_count": null,
      "outputs": []
    },
    {
      "cell_type": "code",
      "metadata": {
        "id": "PQx-S20bL0W6"
      },
      "source": [
        "def accuracy(test_loader,model):\n",
        "\n",
        "  model.eval()\n",
        "  with torch.no_grad():\n",
        "      correct = 0\n",
        "      total = 0\n",
        "      for i,(images, labels) in enumerate(test_loader):\n",
        "        labels = labels.cuda()\n",
        "        outputs = model(images).cuda()\n",
        "        _, predicted = torch.max(outputs.data, 1)\n",
        "\n",
        "        total += labels.size(0)\n",
        "\n",
        "        correct += (predicted == labels).sum().item()\n",
        "      accuracy =100 * correct / total\n",
        "  return accuracy"
      ],
      "execution_count": null,
      "outputs": []
    },
    {
      "cell_type": "code",
      "metadata": {
        "colab": {
          "base_uri": "https://localhost:8080/"
        },
        "id": "atGCN9rYMOBh",
        "outputId": "5e61851b-531e-4739-98bf-1a52699507f8"
      },
      "source": [
        "model1 = FiveLayer_NeuralNet_512_problem_3(input_size, hidden_size,num_classes,\"relu\").cuda()\n",
        "output1= final_ouput(model1,100,train_loader1,test_loader1,0.001)"
      ],
      "execution_count": null,
      "outputs": [
        {
          "output_type": "stream",
          "text": [
            "Epoch: 0 Loss: 0.2134412064500995 accuracy: 96.23\n",
            "Epoch: 5 Loss: 0.039949918781885745 accuracy: 97.55\n",
            "Epoch: 10 Loss: 0.023476770513480395 accuracy: 98.13\n",
            "Epoch: 15 Loss: 0.019578701094845247 accuracy: 98.07\n",
            "Epoch: 20 Loss: 0.011517507044058132 accuracy: 98.17\n",
            "Epoch: 25 Loss: 0.01611392843872465 accuracy: 98.41\n",
            "Epoch: 30 Loss: 0.013686290709436544 accuracy: 98.27\n",
            "Epoch: 35 Loss: 0.009306064924668015 accuracy: 98.18\n",
            "Epoch: 40 Loss: 0.015521311985819278 accuracy: 98.35\n",
            "Epoch: 45 Loss: 0.013248252105255263 accuracy: 98.33\n",
            "Epoch: 50 Loss: 0.005426176722938236 accuracy: 98.21\n",
            "Epoch: 55 Loss: 0.012799412818635813 accuracy: 98.13\n",
            "Epoch: 60 Loss: 0.00892289649876664 accuracy: 98.28\n",
            "Epoch: 65 Loss: 0.004650128483743035 accuracy: 98.41\n",
            "Epoch: 70 Loss: 0.005100438745295601 accuracy: 98.42\n",
            "Epoch: 75 Loss: 0.003570605230684606 accuracy: 98.3\n",
            "Epoch: 80 Loss: 0.009151270459946946 accuracy: 98.33\n",
            "Epoch: 85 Loss: 0.0039438506631490795 accuracy: 98.52\n",
            "Epoch: 90 Loss: 2.284318127420514e-07 accuracy: 98.54\n",
            "Epoch: 95 Loss: 5.023973479593899e-10 accuracy: 98.53\n"
          ],
          "name": "stdout"
        }
      ]
    },
    {
      "cell_type": "code",
      "metadata": {
        "id": "QfQsc-xBPZc2"
      },
      "source": [
        "layer1=model1.state_dict()[\"fc1.weight\"]\n",
        "layer2=model1.state_dict()[\"fc2.weight\"]\n",
        "layer3=model1.state_dict()[\"fc3.weight\"]\n",
        "layer4=model1.state_dict()[\"fc4.weight\"]\n",
        "layer5=model1.state_dict()[\"fc5.weight\"]"
      ],
      "execution_count": null,
      "outputs": []
    },
    {
      "cell_type": "markdown",
      "metadata": {
        "id": "9KeEzCbAhFHf"
      },
      "source": [
        "## Performing SVD on each layer except the last one"
      ]
    },
    {
      "cell_type": "code",
      "metadata": {
        "id": "7I13QDNuP8XM"
      },
      "source": [
        "svd_layer1=torch.svd(layer1)\n",
        "svd_layer2=torch.svd(layer2)\n",
        "svd_layer3=torch.svd(layer3)\n",
        "svd_layer4=torch.svd(layer4)\n",
        "svd_layer5=torch.svd(layer5)"
      ],
      "execution_count": null,
      "outputs": []
    },
    {
      "cell_type": "code",
      "metadata": {
        "id": "NhPPgAigVZ1f"
      },
      "source": [
        "def svd_for_each_layer_with_dimesion(svd_layer,k):\n",
        "  svd_layer1_u_10=svd_layer[0][:,0:k]\n",
        "  svd_layer1_s_10=svd_layer[1][0:k]\n",
        "\n",
        "  svd_layer1_s_diag=torch.diag(svd_layer1_s_10)\n",
        "  svd_layer1_v_10=svd_layer[2].T[0:k,:]\n",
        "\n",
        "\n",
        "  df1=torch.matmul(svd_layer1_u_10,svd_layer1_s_diag)\n",
        "  df2=torch.matmul(df1,svd_layer1_v_10)\n",
        "\n",
        "  return df2\n"
      ],
      "execution_count": null,
      "outputs": []
    },
    {
      "cell_type": "code",
      "metadata": {
        "id": "If46t-fgdOJi"
      },
      "source": [
        "finetuned=FiveLayer_NeuralNet_512_problem_3(input_size, hidden_size,num_classes,\"relu\").cuda()"
      ],
      "execution_count": null,
      "outputs": []
    },
    {
      "cell_type": "code",
      "metadata": {
        "id": "ir4JMXoqUY8X",
        "colab": {
          "base_uri": "https://localhost:8080/"
        },
        "outputId": "089f4dab-8d8d-4b5a-eabc-bd38832d2baf"
      },
      "source": [
        "list_accuracy=[]\n",
        "dimensions=[10,20,50,100,200,784]\n",
        "for d in dimensions:\n",
        "  pretext_model_assigned=model1.state_dict()\n",
        "  pretext_model_assigned[\"fc1.weight\"]=svd_for_each_layer_with_dimesion(svd_layer1,d)\n",
        "  pretext_model_assigned[\"fc2.weight\"]=svd_for_each_layer_with_dimesion(svd_layer2,d)\n",
        "  pretext_model_assigned[\"fc3.weight\"]=svd_for_each_layer_with_dimesion(svd_layer3,d)\n",
        "  pretext_model_assigned[\"fc4.weight\"]=svd_for_each_layer_with_dimesion(svd_layer4,d)\n",
        "  pretext_model_assigned[\"fc5.weight\"]=svd_for_each_layer_with_dimesion(svd_layer5,d)\n",
        "  finetuned.load_state_dict(pretext_model_assigned)\n",
        "  acc=accuracy(test_loader1,finetuned)\n",
        "  print(\"The accuracy for dimesnion d=\",d,\"is:\",acc)\n",
        "  list_accuracy.append(acc)"
      ],
      "execution_count": null,
      "outputs": [
        {
          "output_type": "stream",
          "text": [
            "The accuracy for dimesnion d= 10 is: 11.28\n",
            "The accuracy for dimesnion d= 20 is: 48.17\n",
            "The accuracy for dimesnion d= 50 is: 97.17\n",
            "The accuracy for dimesnion d= 100 is: 98.33\n",
            "The accuracy for dimesnion d= 200 is: 98.5\n",
            "The accuracy for dimesnion d= 784 is: 98.55\n"
          ],
          "name": "stdout"
        }
      ]
    },
    {
      "cell_type": "code",
      "metadata": {
        "id": "9z47yz6BjuSb",
        "colab": {
          "base_uri": "https://localhost:8080/",
          "height": 298
        },
        "outputId": "836064bf-f559-4823-ad66-777a46e706e8"
      },
      "source": [
        "plt.figure()\n",
        "plt.plot(list_accuracy)\n",
        "plt.title('Plot of Dimension vs Accuracy')"
      ],
      "execution_count": null,
      "outputs": [
        {
          "output_type": "execute_result",
          "data": {
            "text/plain": [
              "Text(0.5, 1.0, 'Plot of Dimension vs Accuracy')"
            ]
          },
          "metadata": {
            "tags": []
          },
          "execution_count": 14
        },
        {
          "output_type": "display_data",
          "data": {
            "image/png": "[encoded data removed]",
            "text/plain": [
              "<Figure size 432x288 with 1 Axes>"
            ]
          },
          "metadata": {
            "tags": [],
            "needs_background": "light"
          }
        }
      ]
    },
    {
      "cell_type": "code",
      "metadata": {
        "id": "tz82wxNkOWwG",
        "colab": {
          "base_uri": "https://localhost:8080/"
        },
        "outputId": "54d0ecad-9825-42c5-920c-723470c8b013"
      },
      "source": [
        "print(\"The number of parameters for SVD with D=10:\",1024*10+10+4*(1024*10+10+10*1024+1024)+1024*10+10+10*784+1024)\n",
        "print(\"The number of parameters for SVD with D=20:\",1024*10+10+4*(1024*20+20+20*1024+1024)+1024*20+20+20*784)\n",
        "print(\"The number of parameters for SVD with D=50:\",1024*10+10+4*(1024*50+50+50*1024+1024)+1024*50+50+50*784)\n",
        "print(\"The number of parameters for SVD with D=100:\",1024*10+10+4*(1024*100+100+100*1024+1024)+1024*100+100+100*784)\n",
        "print(\"The number of parameters for SVD with D=200:\",1024*10+10+4*(1024*200+200+50*1024+1024)+1024*200+200+200*784)\n",
        "print(\"The number of parameters for SVD with D=784:\",1024*10+10+4*(1024*784+784+784*1024+1024)+1024*784+784+784*784)"
      ],
      "execution_count": null,
      "outputs": [
        {
          "output_type": "stream",
          "text": [
            "The number of parameters for SVD with D=10: 115420\n",
            "The number of parameters for SVD with D=20: 214446\n",
            "The number of parameters for SVD with D=50: 514596\n",
            "The number of parameters for SVD with D=100: 1014846\n",
            "The number of parameters for SVD with D=200: 1400946\n",
            "The number of parameters for SVD with D=784: 7858266\n"
          ],
          "name": "stdout"
        }
      ]
    },
    {
      "cell_type": "markdown",
      "metadata": {
        "id": "IeeLem2jmMgz"
      },
      "source": [
        "## Question 2"
      ]
    },
    {
      "cell_type": "markdown",
      "metadata": {
        "id": "vB2GPPOscQCz"
      },
      "source": [
        "### Defining Network"
      ]
    },
    {
      "cell_type": "code",
      "metadata": {
        "id": "ZMT6cJNXny7N"
      },
      "source": [
        "class question2(nn.Module):\n",
        "    def __init__(self, input_size,num_classes,activation):\n",
        "        super(question2, self).__init__()\n",
        "        \n",
        "        self.fc1_v = nn.Linear(input_size,20,bias=False)\n",
        "        self.fc1_u=nn.Linear(20,1024)\n",
        "\n",
        "        torch.nn.init.kaiming_normal_(self.fc1_v.weight)\n",
        "        torch.nn.init.kaiming_normal_(self.fc1_u.weight)\n",
        "        torch.nn.init.zeros_(self.fc1_u.bias)\n",
        "\n",
        "        self.fc2_v = nn.Linear(1024, 20,bias=False) \n",
        "        self.fc2_u= nn.Linear(20,1024) \n",
        "        \n",
        "     \n",
        "        torch.nn.init.kaiming_normal_(self.fc2_v.weight)\n",
        "        torch.nn.init.kaiming_normal_(self.fc2_u.weight)\n",
        "        torch.nn.init.zeros_(self.fc2_u.bias)\n",
        "\n",
        "\n",
        "        self.fc3_v = nn.Linear(1024, 20,bias=False) \n",
        "        self.fc3_u= nn.Linear(20,1024) \n",
        "        \n",
        "        \n",
        "        torch.nn.init.kaiming_normal_(self.fc3_v.weight)\n",
        "        torch.nn.init.kaiming_normal_(self.fc3_u.weight)\n",
        "        torch.nn.init.zeros_(self.fc3_u.bias) \n",
        "\n",
        "        self.fc4_v = nn.Linear(1024, 20,bias=False) \n",
        "        self.fc4_u= nn.Linear(20,1024)\n",
        "        \n",
        "        torch.nn.init.kaiming_normal_(self.fc4_v.weight)\n",
        "        torch.nn.init.kaiming_normal_(self.fc4_u.weight)\n",
        "        torch.nn.init.zeros_(self.fc4_u.bias) \n",
        "\n",
        "        self.fc5_v = nn.Linear(1024, 20,bias=False) \n",
        "        self.fc5_u= nn.Linear(20,1024)\n",
        "      \n",
        "        torch.nn.init.kaiming_normal_(self.fc5_v.weight)\n",
        "        torch.nn.init.kaiming_normal_(self.fc5_u.weight)\n",
        "        torch.nn.init.zeros_(self.fc5_u.bias)\n",
        "\n",
        "        self.fc6=  nn.Linear(hidden_size[4], num_classes)\n",
        "        \n",
        "        torch.nn.init.kaiming_normal_(self.fc6.weight)\n",
        "        torch.nn.init.zeros_(self.fc6.bias) \n",
        "\n",
        "        if activation==\"relu\":\n",
        "          self.act= nn.ReLU()\n",
        "        if activation==\"sigmoid\":\n",
        "          self.act=nn.Sigmoid()\n",
        "        if activation==\"tanh\":\n",
        "          self.act=nn.Tanh()\n",
        "\n",
        "    \n",
        "    def forward(self, x):\n",
        "        x = x.reshape(-1, 28*28).cuda()\n",
        "        self.layer1 = self.act(self.fc1_u(self.fc1_v(x)))\n",
        "        self.layer2 = self.act(self.fc2_u(self.fc2_v(self.layer1)))\n",
        "        self.layer3 = self.act(self.fc3_u(self.fc3_v(self.layer2)))\n",
        "        self.layer4 = self.act(self.fc4_u(self.fc4_v(self.layer3)))\n",
        "        self.layer5 = self.act(self.fc5_u(self.fc5_v(self.layer4)))\n",
        "        self.output = self.fc6(self.layer5)\n",
        "        return self.output"
      ],
      "execution_count": null,
      "outputs": []
    },
    {
      "cell_type": "markdown",
      "metadata": {
        "id": "4WcUNCgfcUpY"
      },
      "source": [
        "### Function for finding Initial U and V matrices with D=20"
      ]
    },
    {
      "cell_type": "code",
      "metadata": {
        "id": "7oZOJaG46iEy"
      },
      "source": [
        "def svd_for_each_layer_with_dimesion_pb2(svd_layer,k):\n",
        "  svd_layer1_u_10=svd_layer[0][:,0:k]\n",
        "  svd_layer1_s_10=svd_layer[1][0:k]\n",
        "\n",
        "  svd_layer1_s_diag=torch.diag(svd_layer1_s_10)\n",
        "  svd_layer1_v_10=svd_layer[2].T[0:k,:]\n",
        "  df2=torch.matmul(svd_layer1_s_diag,svd_layer1_v_10)\n",
        "\n",
        "  return svd_layer1_u_10,df2"
      ],
      "execution_count": null,
      "outputs": []
    },
    {
      "cell_type": "code",
      "metadata": {
        "id": "-YloJueyWHK1"
      },
      "source": [
        "new_model = question2(784,10,\"relu\").cuda()"
      ],
      "execution_count": null,
      "outputs": []
    },
    {
      "cell_type": "code",
      "metadata": {
        "id": "Q5YlALwmZGG1"
      },
      "source": [
        "pb2_layer1= svd_for_each_layer_with_dimesion_pb2(svd_layer1,20)\n",
        "pb2_layer2= svd_for_each_layer_with_dimesion_pb2(svd_layer2,20)\n",
        "pb2_layer3 =svd_for_each_layer_with_dimesion_pb2(svd_layer3,20)\n",
        "pb2_layer4=svd_for_each_layer_with_dimesion_pb2(svd_layer4,20)\n",
        "pb2_layer5=svd_for_each_layer_with_dimesion_pb2(svd_layer5,20)"
      ],
      "execution_count": null,
      "outputs": []
    },
    {
      "cell_type": "markdown",
      "metadata": {
        "id": "kgD3rj1qcgEX"
      },
      "source": [
        "## Transferring the weights to the model"
      ]
    },
    {
      "cell_type": "code",
      "metadata": {
        "id": "N5GVCVQQezDH"
      },
      "source": [
        "new_model.fc1_v.weight.data = pb2_layer1[1]\n",
        "new_model.fc1_u.weight.data = pb2_layer1[0]\n",
        "new_model.fc2_v.weight.data = pb2_layer2[1]\n",
        "new_model.fc2_u.weight.data = pb2_layer2[0]\n",
        "new_model.fc3_v.weight.data = pb2_layer3[1]\n",
        "new_model.fc3_u.weight.data = pb2_layer3[0]\n",
        "new_model.fc4_v.weight.data = pb2_layer4[1]\n",
        "new_model.fc4_u.weight.data = pb2_layer4[0]\n",
        "new_model.fc5_v.weight.data = pb2_layer5[1]\n",
        "new_model.fc5_u.weight.data = pb2_layer5[0]"
      ],
      "execution_count": null,
      "outputs": []
    },
    {
      "cell_type": "code",
      "metadata": {
        "id": "zqayRSA8fDAH",
        "colab": {
          "base_uri": "https://localhost:8080/"
        },
        "outputId": "7c82e2ec-c410-4171-df04-a23dbdc87704"
      },
      "source": [
        "output_pb2= final_ouput(new_model,100,train_loader1,test_loader1,0.00001)"
      ],
      "execution_count": null,
      "outputs": [
        {
          "output_type": "stream",
          "text": [
            "Epoch: 0 Loss: 1.896006327448115 accuracy: 45.07\n",
            "Epoch: 5 Loss: 0.13756623219595407 accuracy: 96.04\n",
            "Epoch: 10 Loss: 0.09180675417200716 accuracy: 96.97\n",
            "Epoch: 15 Loss: 0.07081524100996602 accuracy: 97.13\n",
            "Epoch: 20 Loss: 0.058134547043427916 accuracy: 97.29\n",
            "Epoch: 25 Loss: 0.048665541655588535 accuracy: 97.42\n",
            "Epoch: 30 Loss: 0.04133414503892879 accuracy: 97.46\n",
            "Epoch: 35 Loss: 0.0354109857110247 accuracy: 97.51\n",
            "Epoch: 40 Loss: 0.030631274773504958 accuracy: 97.59\n",
            "Epoch: 45 Loss: 0.026552952978182148 accuracy: 97.65\n",
            "Epoch: 50 Loss: 0.022890887418099103 accuracy: 97.64\n",
            "Epoch: 55 Loss: 0.019806353561605004 accuracy: 97.63\n",
            "Epoch: 60 Loss: 0.01704715775980079 accuracy: 97.64\n",
            "Epoch: 65 Loss: 0.014756006672720251 accuracy: 97.68\n",
            "Epoch: 70 Loss: 0.012716646983074696 accuracy: 97.66\n",
            "Epoch: 75 Loss: 0.011122609065624971 accuracy: 97.69\n",
            "Epoch: 80 Loss: 0.00946991330865378 accuracy: 97.68\n",
            "Epoch: 85 Loss: 0.007939451870049966 accuracy: 97.71\n",
            "Epoch: 90 Loss: 0.006944368172676857 accuracy: 97.62\n",
            "Epoch: 95 Loss: 0.00579249044943381 accuracy: 97.7\n"
          ],
          "name": "stdout"
        }
      ]
    },
    {
      "cell_type": "code",
      "metadata": {
        "colab": {
          "base_uri": "https://localhost:8080/",
          "height": 298
        },
        "id": "cjnkVgzBgIL4",
        "outputId": "7b06c621-bcb6-4290-adcf-e975aa1d933e"
      },
      "source": [
        "plt.figure()\n",
        "plt.plot(output_pb2)\n",
        "plt.title('Plot of Accuracy vs Iterations')"
      ],
      "execution_count": null,
      "outputs": [
        {
          "output_type": "execute_result",
          "data": {
            "text/plain": [
              "Text(0.5, 1.0, 'Plot of Accuracy vs Iterations')"
            ]
          },
          "metadata": {
            "tags": []
          },
          "execution_count": 22
        },
        {
          "output_type": "display_data",
          "data": {
            "image/png": "[encoded data removed]",
            "text/plain": [
              "<Figure size 432x288 with 1 Axes>"
            ]
          },
          "metadata": {
            "tags": [],
            "needs_background": "light"
          }
        }
      ]
    },
    {
      "cell_type": "code",
      "metadata": {
        "id": "uqSb7LXOTnb1",
        "colab": {
          "base_uri": "https://localhost:8080/"
        },
        "outputId": "621fbb27-7036-4c48-f7df-0752ca60ef94"
      },
      "source": [
        "print(\"The test accuracy is :\",output_pb2[99])"
      ],
      "execution_count": null,
      "outputs": [
        {
          "output_type": "stream",
          "text": [
            "The test accuracy is : 97.61\n"
          ],
          "name": "stdout"
        }
      ]
    },
    {
      "cell_type": "markdown",
      "metadata": {
        "id": "JgfKgWliC2ZO"
      },
      "source": [
        "## Problem 3"
      ]
    },
    {
      "cell_type": "code",
      "metadata": {
        "id": "10rduyjhQcMN"
      },
      "source": [
        "import math"
      ],
      "execution_count": null,
      "outputs": []
    },
    {
      "cell_type": "code",
      "metadata": {
        "id": "Ad7AuCldTEtk"
      },
      "source": [
        "class low_dim(torch.autograd.Function):\n",
        "    @staticmethod\n",
        "    def forward(ctx, w, d=20):\n",
        "        u, s, v = torch.svd(w)\n",
        "        U = u[:, :d].requires_grad_()\n",
        "        S = torch.diag(s[:d])\n",
        "        V = torch.mm(S, v[:, :20].T).requires_grad_()\n",
        "        tu =torch.mm(U, V).requires_grad_()\n",
        "        \n",
        "        return tu\n",
        "    \n",
        "    @staticmethod\n",
        "    def backward(ctx, grad_output):\n",
        "        return grad_output"
      ],
      "execution_count": null,
      "outputs": []
    },
    {
      "cell_type": "code",
      "metadata": {
        "id": "6XxTOzkdONhM"
      },
      "source": [
        "class MyLinearLayer(nn.Module):\n",
        "    \"\"\" Custom Linear layer but mimics a standard linear layer \"\"\"\n",
        "    def __init__(self, size_in, size_out):\n",
        "        super().__init__()\n",
        "        self.size_in, self.size_out = size_in, size_out\n",
        "        weights = torch.Tensor(size_out, size_in)\n",
        "        self.weight = nn.Parameter(weights)  # nn.Parameter is a Tensor that's a module parameter.\n",
        "        bias = torch.Tensor(size_out)\n",
        "        self.bias = nn.Parameter(bias)\n",
        "\n",
        "        # initialize weights and biases\n",
        "        nn.init.kaiming_uniform_(self.weight, a=math.sqrt(5)) # weight init\n",
        "        fan_in, _ = nn.init._calculate_fan_in_and_fan_out(self.weight)\n",
        "        bound = 1 / math.sqrt(fan_in)\n",
        "        nn.init.uniform_(self.bias, -bound, bound)  # bias init\n",
        "        self.low=low_dim.apply\n",
        "\n",
        "    def forward(self, x):\n",
        "        w_times_x= torch.mm(x, self.low(self.weight.t()))\n",
        "        return torch.add(w_times_x, self.bias)  # w times x + b"
      ],
      "execution_count": null,
      "outputs": []
    },
    {
      "cell_type": "code",
      "metadata": {
        "id": "1iGj0goVAluk"
      },
      "source": [
        "class FiveLayer_pb3(nn.Module):\n",
        "    def __init__(self, input_size,hidden_size,num_classes,activation):\n",
        "        super(FiveLayer_pb3, self).__init__()\n",
        "        \n",
        "        self.fc1 = MyLinearLayer(input_size, hidden_size[0])\n",
        "        self.fc2 = MyLinearLayer(hidden_size[0], hidden_size[1]) \n",
        "        self.fc3 = MyLinearLayer(hidden_size[1], hidden_size[2]) \n",
        "        self.fc4 = MyLinearLayer(hidden_size[2], hidden_size[3])\n",
        "        self.c5 f= MyLinearLayer(hidden_size[3], hidden_size[4])  \n",
        "        self.fc6= MyLinearLayer(hidden_size[4], num_classes)\n",
        "\n",
        "        if activation==\"relu\":\n",
        "          self.act= nn.ReLU()\n",
        "        if activation==\"sigmoid\":\n",
        "          self.act=nn.Sigmoid()\n",
        "        if activation==\"tanh\":\n",
        "          self.act=nn.Tanh()\n",
        "        self.low = low_dim.apply\n",
        "\n",
        "    \n",
        "    def forward(self, x):\n",
        "        x = x.reshape(-1, 28*28).cuda()\n",
        "        self.layer1 = self.act(self.fc1(x)) \n",
        "        self.layer2 = self.act(self.fc2(self.layer1))\n",
        "        self.layer3 = self.act(self.fc3(self.layer2))\n",
        "        self.layer4 = self.act(self.fc4(self.layer3))\n",
        "        self.layer5 = self.act(self.fc5(self.layer4))\n",
        "        self.output = self.fc6( self.layer5)\n",
        "        return self.output"
      ],
      "execution_count": null,
      "outputs": []
    },
    {
      "cell_type": "code",
      "metadata": {
        "id": "sAGk_HPujGPR"
      },
      "source": [
        "finetuned_pb3=FiveLayer_pb3(784, hidden_size,10,\"relu\").cuda()"
      ],
      "execution_count": null,
      "outputs": []
    },
    {
      "cell_type": "code",
      "metadata": {
        "colab": {
          "base_uri": "https://localhost:8080/"
        },
        "id": "fJ5Bx4-3kjSu",
        "outputId": "06eb631a-e5e9-4952-e2c1-abc7b5a83694"
      },
      "source": [
        "finetuned_pb3.load_state_dict(model1.state_dict())"
      ],
      "execution_count": null,
      "outputs": [
        {
          "output_type": "execute_result",
          "data": {
            "text/plain": [
              "<All keys matched successfully>"
            ]
          },
          "metadata": {
            "tags": []
          },
          "execution_count": 29
        }
      ]
    },
    {
      "cell_type": "code",
      "metadata": {
        "colab": {
          "base_uri": "https://localhost:8080/"
        },
        "id": "12oaZ-8glcKA",
        "outputId": "55d9e9e4-6494-41bb-bdea-475dbab4685c"
      },
      "source": [
        "output_pb3= final_ouput(finetuned_pb3,20,train_loader1,test_loader1,0.001)"
      ],
      "execution_count": null,
      "outputs": [
        {
          "output_type": "stream",
          "text": [
            "Epoch: 0 Loss: 0.14954905402360122 accuracy: 96.76\n",
            "Epoch: 5 Loss: 0.05543531835385 accuracy: 97.16\n",
            "Epoch: 10 Loss: 0.05516702125195477 accuracy: 97.76\n",
            "Epoch: 15 Loss: 0.053191928173115514 accuracy: 97.5\n"
          ],
          "name": "stdout"
        }
      ]
    },
    {
      "cell_type": "markdown",
      "metadata": {
        "id": "AmFHX4m5xTGQ"
      },
      "source": [
        "The accuracy for the above problem 3  is 97.5 %\n",
        "\n",
        "\n",
        "\n"
      ]
    },
    {
      "cell_type": "code",
      "metadata": {
        "id": "lauSOI8DwcQR"
      },
      "source": [
        ""
      ],
      "execution_count": null,
      "outputs": []
    }
  ]
}